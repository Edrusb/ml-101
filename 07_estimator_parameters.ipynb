{
 "cells": [
  {
   "cell_type": "markdown",
   "id": "79df6745-5ac7-4c7d-966d-44873bf9d469",
   "metadata": {},
   "source": [
    "### Introduction\n",
    "\n",
    "We used a Linear SVC classification algorithm (aka Scikit-learn estimator) to learn how to classify records in the Iris flowers.\n",
    "\n",
    "In this section, we explore Linear SVC in a little more detail.  We can only cover things at a high level though, the detailed working of algorithms typically require strong mathematical knowledge.\n",
    "\n",
    "Most of the algorithms have been implemented consistently.  If you understand how to work with one algorithm, you can easily use that knowledge to determine how to work with other algorithms.\n"
   ]
  },
  {
   "cell_type": "markdown",
   "id": "b7840e18-614f-49f4-8435-ace01d5377ae",
   "metadata": {
    "tags": []
   },
   "source": [
    "### Linear SVC\n",
    "\n",
    "The Linear SVC algorithm is documented at the following page: https://scikit-learn.org/stable/modules/generated/sklearn.svm.LinearSVC.html\n",
    "\n",
    "If you navigate to the page, you see there are a bunch of parameters that can be provided to alter the behavoir of the algoritm such as: \n",
    "\n",
    "`penalty, loss, dual, tol, ...`\n",
    "\n",
    "When we created our LinearSVC model, we did not provide any **parameters** and therefore the default parameter values were provided:\n",
    "\n",
    "`classifier = LinearSVC()`\n",
    "\n",
    "Here is an example of specifying some parameters:\n",
    "\n",
    "`classifier = LinearSVC(penalty='l1', loss='hinge')`\n",
    "\n",
    "To understand what parameters values to use, a data scientist would need to understand the mathematical formulation of the model.  Note that each algorithm has a different mathematical formulation.\n"
   ]
  },
  {
   "cell_type": "markdown",
   "id": "0f6df8ea-f9f5-4d32-a0d4-c39846574c43",
   "metadata": {},
   "source": [
    "#### Linear SVC Mathematical Formulation\n",
    "\n",
    "**IMPORTANT:**\n",
    "\n",
    "- We only show the content below to give you an awareness of the concepts that data scientists will typically need to understand when building machine learning models\n",
    "- You do NOT need to understand this on this machine learning 101. Our goal is to only make you aware of some of the things that data scientists do.\n",
    "\n",
    "The following content is copied directly from the Scikit-Learn docs.  \n",
    "\n",
    "> ---\n",
    "\n",
    "> The primal problem can be equivalently formulated as\n",
    ">\n",
    "> <div class=\"math\">\n",
    "\\begin{equation}\n",
    "  \\min_ {w, b} \\frac{1}{2} w^T w + C \\sum_{i=1}\\max(0, 1 - y_i (w^T \\phi(x_i) + b)),\n",
    "\\end{equation}\n",
    "> </div>\n",
    ">\n",
    "> where we make use of the hinge loss. This is the form that is directly optimized by LinearSVC, but unlike the dual form, this one does not involve inner products between samples, so the famous kernel trick cannot be applied. This is why only the linear kernel is supported by LinearSVC ( is the identity function).\n",
    ">\n",
    "> Source: https://scikit-learn.org/stable/modules/svm.html#svm-mathematical-formulation\n",
    "\n",
    "> ---"
   ]
  },
  {
   "cell_type": "markdown",
   "id": "c3b9028c-9973-4bb8-a469-435874d7f241",
   "metadata": {},
   "source": [
    "### Hyper-parameter tuning\n",
    "\n",
    "It is important to know about algoritm parameters because another concept that you should know about is Hyper Parameter Tuning.\n",
    "\n",
    "<div class=\"alert-info\">\n",
    "\n",
    "---\n",
    "_**DEFINITION: Hyper Parameter Tuning**_\n",
    "    \n",
    "_Also known as: Hyper Parameter Optimisation or HPO_\n",
    "    \n",
    "_Hyper Parameters are parameters that the algorithm does not learn.  In Scikit-learn they are passed in as arguments to constructors, e.g._\n",
    "    \n",
    "_`classifier = LinearSVC(penalty='l1', dual=False)`_\n",
    "    \n",
    "_Hyper Parameter **Tuning** is the process (usually automated) to find the best values for the hyper parameters so that the prediction accuracy of the algorith is optimised._\n",
    "    \n",
    "_**Advanced Topic**: for more information on Hyper Parameter Tuning you can refer to the Scikit-learn docs: https://scikit-learn.org/stable/modules/grid_search.html#_\n",
    "    \n",
    "---\n",
    "    \n",
    "<div>\n",
    "\n"
   ]
  },
  {
   "cell_type": "markdown",
   "id": "b516d821-8bfd-4295-aec4-75c27bcb0b03",
   "metadata": {},
   "source": [
    " ### Summary\n",
    " \n",
    "In this notebook we focussed on parameters.  In future notebooks, we will explore how different parameters affect the prediction accuracy of our models.\n",
    " \n",
    " **Exercise 01:** Try running the code below using different parameter values. "
   ]
  },
  {
   "cell_type": "code",
   "execution_count": 10,
   "id": "d73bc39f-9b62-4ce7-9c68-864122589a76",
   "metadata": {},
   "outputs": [
    {
     "name": "stderr",
     "output_type": "stream",
     "text": [
      "/opt/conda/lib/python3.9/site-packages/sklearn/svm/_base.py:1206: ConvergenceWarning: Liblinear failed to converge, increase the number of iterations.\n",
      "  warnings.warn(\n"
     ]
    }
   ],
   "source": [
    "from sklearn.datasets import load_iris\n",
    "iris = load_iris()\n",
    "\n",
    "X, y = iris.data, iris.target\n",
    "\n",
    "from sklearn.svm import LinearSVC\n",
    "classifier = LinearSVC() ### TRY DIFFERENT PARAMETERS\n",
    "\n",
    "# Train the model (i.e. learn from the iris data)\n",
    "model = classifier.fit(X, y)"
   ]
  },
  {
   "cell_type": "markdown",
   "id": "3fa086af-3dec-4eef-b7a9-3dc37c1cd540",
   "metadata": {},
   "source": [
    "### Navigation\n",
    "\n",
    "[Previous](./06_Sckit-Learn_algorithm_cheetsheet.ipynb) | [Next](./08_test_and_train_split.ipynb) notebook"
   ]
  },
  {
   "cell_type": "code",
   "execution_count": null,
   "id": "51c3eb14-48ce-4399-b0af-1b2a5abe0a55",
   "metadata": {},
   "outputs": [],
   "source": []
  }
 ],
 "metadata": {
  "kernelspec": {
   "display_name": "Python 3 (ipykernel)",
   "language": "python",
   "name": "python3"
  },
  "language_info": {
   "codemirror_mode": {
    "name": "ipython",
    "version": 3
   },
   "file_extension": ".py",
   "mimetype": "text/x-python",
   "name": "python",
   "nbconvert_exporter": "python",
   "pygments_lexer": "ipython3",
   "version": "3.9.7"
  }
 },
 "nbformat": 4,
 "nbformat_minor": 5
}
