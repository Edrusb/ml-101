{
 "cells": [
  {
   "cell_type": "markdown",
   "id": "d9592ef5-d4b3-4f54-9751-29ddd0636de3",
   "metadata": {},
   "source": [
    "TODO ... coming soon "
   ]
  },
  {
   "cell_type": "code",
   "execution_count": 2,
   "id": "423bf934-3551-4711-9a45-f4184ec2a3ef",
   "metadata": {},
   "outputs": [],
   "source": [
    "from sklearn.datasets import load_iris\n",
    "iris = load_iris()\n",
    "\n",
    "# load the iris features into 'X' and target (class) into 'y'\n",
    "X, y = iris.data, iris.target\n",
    "\n",
    "from sklearn.model_selection import train_test_split\n",
    "X_train, X_test, y_train, y_test = train_test_split(\n",
    "     X, y, test_size=0.33)\n"
   ]
  },
  {
   "cell_type": "code",
   "execution_count": 4,
   "id": "fcb95c41-e261-40b5-a2cb-50e4c73c8f41",
   "metadata": {},
   "outputs": [
    {
     "name": "stdout",
     "output_type": "stream",
     "text": [
      "Dataset Size :  (100, 4) (100,)\n",
      "Dataset Size :  (50, 4) (50,)\n"
     ]
    }
   ],
   "source": [
    "print('Dataset Size : ',X_train.shape, y_train.shape)\n",
    "print('Dataset Size : ',X_test.shape, y_test.shape)"
   ]
  },
  {
   "cell_type": "code",
   "execution_count": 5,
   "id": "d1433c0e-b5a1-4bc8-b6c6-ced0cd49699d",
   "metadata": {},
   "outputs": [
    {
     "name": "stderr",
     "output_type": "stream",
     "text": [
      "/opt/conda/lib/python3.9/site-packages/sklearn/svm/_base.py:1206: ConvergenceWarning: Liblinear failed to converge, increase the number of iterations.\n",
      "  warnings.warn(\n"
     ]
    },
    {
     "data": {
      "text/plain": [
       "0.96"
      ]
     },
     "execution_count": 5,
     "metadata": {},
     "output_type": "execute_result"
    }
   ],
   "source": [
    "# Create a LinearSVC type of model - we will talk about different types of model later\n",
    "from sklearn.svm import LinearSVC\n",
    "classifier = LinearSVC()\n",
    "\n",
    "# Train the model (i.e. learn from the iris data)\n",
    "model = classifier.fit(X_train, y_train)\n",
    "\n",
    "model.score(X_test, y_test)"
   ]
  },
  {
   "cell_type": "code",
   "execution_count": 7,
   "id": "8dce4f77-f4ae-4406-8f06-08d2df524f65",
   "metadata": {},
   "outputs": [
    {
     "name": "stderr",
     "output_type": "stream",
     "text": [
      "/opt/conda/lib/python3.9/site-packages/sklearn/svm/_base.py:1206: ConvergenceWarning: Liblinear failed to converge, increase the number of iterations.\n",
      "  warnings.warn(\n"
     ]
    },
    {
     "data": {
      "text/plain": [
       "0.98"
      ]
     },
     "execution_count": 7,
     "metadata": {},
     "output_type": "execute_result"
    }
   ],
   "source": [
    "classifier = LinearSVC(penalty='l1', dual=False)\n",
    "\n",
    "# Train the model (i.e. learn from the iris data)\n",
    "model = classifier.fit(X_train, y_train)\n",
    "\n",
    "model.score(X_test, y_test)"
   ]
  },
  {
   "cell_type": "code",
   "execution_count": null,
   "id": "35bf15dc-af0a-4806-a2a5-65e53c687dad",
   "metadata": {},
   "outputs": [],
   "source": []
  }
 ],
 "metadata": {
  "kernelspec": {
   "display_name": "Python 3 (ipykernel)",
   "language": "python",
   "name": "python3"
  },
  "language_info": {
   "codemirror_mode": {
    "name": "ipython",
    "version": 3
   },
   "file_extension": ".py",
   "mimetype": "text/x-python",
   "name": "python",
   "nbconvert_exporter": "python",
   "pygments_lexer": "ipython3",
   "version": "3.9.7"
  }
 },
 "nbformat": 4,
 "nbformat_minor": 5
}
