{
 "cells": [
  {
   "cell_type": "markdown",
   "id": "d9592ef5-d4b3-4f54-9751-29ddd0636de3",
   "metadata": {},
   "source": [
    "### Introduction\n",
    "\n",
    "When we created our machine learning model in the notebook  [03 first steps with machine learning](./03_first_steps_with_machine_learning.ipynb) we called `fit(X, Y)` passing in the complete data set:\n",
    "\n",
    "```\n",
    "X, y = iris.data, iris.target\n",
    "\n",
    "classifier = LinearSVC()\n",
    "\n",
    "model = classifier.fit(X, y)\n",
    "```\n",
    "\n",
    "The problem we are faced with now is how do we test our model's accuracy?"
   ]
  },
  {
   "cell_type": "markdown",
   "id": "78d5366a-459f-410f-8b68-3df0776551fe",
   "metadata": {},
   "source": [
    "### Splitting our dataset\n",
    "\n",
    "Typically we will want to split our dataset so that we use a portion of the data for training the model and a portion of the dataset is held back to test the model.\n"
   ]
  },
  {
   "cell_type": "code",
   "execution_count": 11,
   "id": "423bf934-3551-4711-9a45-f4184ec2a3ef",
   "metadata": {},
   "outputs": [
    {
     "name": "stdout",
     "output_type": "stream",
     "text": [
      "Training data size :  (100, 4) (100,)\n"
     ]
    }
   ],
   "source": [
    "from sklearn.datasets import load_iris\n",
    "iris = load_iris()\n",
    "\n",
    "X, y = iris.data, iris.target\n",
    "\n",
    "from sklearn.model_selection import train_test_split\n",
    "X_train, X_test, y_train, y_test = train_test_split( X, y, test_size=0.33)\n",
    "\n",
    "print('Training data size : ', X_train.shape, y_train.shape)\n",
    "\n",
    "# Exercise: uncomment the next line and print the size of your test data\n",
    "# print('Test data size : ',???.???, ???.???)"
   ]
  },
  {
   "cell_type": "code",
   "execution_count": 4,
   "id": "fcb95c41-e261-40b5-a2cb-50e4c73c8f41",
   "metadata": {},
   "outputs": [
    {
     "name": "stdout",
     "output_type": "stream",
     "text": [
      "Dataset Size :  (100, 4) (100,)\n",
      "Dataset Size :  (50, 4) (50,)\n"
     ]
    }
   ],
   "source": []
  },
  {
   "cell_type": "code",
   "execution_count": 5,
   "id": "d1433c0e-b5a1-4bc8-b6c6-ced0cd49699d",
   "metadata": {},
   "outputs": [
    {
     "name": "stderr",
     "output_type": "stream",
     "text": [
      "/opt/conda/lib/python3.9/site-packages/sklearn/svm/_base.py:1206: ConvergenceWarning: Liblinear failed to converge, increase the number of iterations.\n",
      "  warnings.warn(\n"
     ]
    },
    {
     "data": {
      "text/plain": [
       "0.96"
      ]
     },
     "execution_count": 5,
     "metadata": {},
     "output_type": "execute_result"
    }
   ],
   "source": [
    "# Create a LinearSVC type of model - we will talk about different types of model later\n",
    "from sklearn.svm import LinearSVC\n",
    "classifier = LinearSVC()\n",
    "\n",
    "# Train the model (i.e. learn from the iris data)\n",
    "model = classifier.fit(X_train, y_train)\n",
    "\n",
    "model.score(X_test, y_test)"
   ]
  },
  {
   "cell_type": "code",
   "execution_count": 7,
   "id": "8dce4f77-f4ae-4406-8f06-08d2df524f65",
   "metadata": {},
   "outputs": [
    {
     "name": "stderr",
     "output_type": "stream",
     "text": [
      "/opt/conda/lib/python3.9/site-packages/sklearn/svm/_base.py:1206: ConvergenceWarning: Liblinear failed to converge, increase the number of iterations.\n",
      "  warnings.warn(\n"
     ]
    },
    {
     "data": {
      "text/plain": [
       "0.98"
      ]
     },
     "execution_count": 7,
     "metadata": {},
     "output_type": "execute_result"
    }
   ],
   "source": [
    "classifier = LinearSVC(penalty='l1', dual=False)\n",
    "\n",
    "# Train the model (i.e. learn from the iris data)\n",
    "model = classifier.fit(X_train, y_train)\n",
    "\n",
    "model.score(X_test, y_test)"
   ]
  },
  {
   "cell_type": "markdown",
   "id": "f38393e4-1af3-4241-911e-be4417094ea9",
   "metadata": {},
   "source": [
    "### Navigation\n",
    "\n",
    "[Previous](./07_estimator_parameters.ipynb) | [Next](./09_model_performance.ipynb) notebook"
   ]
  },
  {
   "cell_type": "code",
   "execution_count": null,
   "id": "06069662-51a0-48e1-831c-dc76ceef91ac",
   "metadata": {},
   "outputs": [],
   "source": []
  }
 ],
 "metadata": {
  "kernelspec": {
   "display_name": "Python 3 (ipykernel)",
   "language": "python",
   "name": "python3"
  },
  "language_info": {
   "codemirror_mode": {
    "name": "ipython",
    "version": 3
   },
   "file_extension": ".py",
   "mimetype": "text/x-python",
   "name": "python",
   "nbconvert_exporter": "python",
   "pygments_lexer": "ipython3",
   "version": "3.9.7"
  }
 },
 "nbformat": 4,
 "nbformat_minor": 5
}
