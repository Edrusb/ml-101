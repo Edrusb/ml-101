{
 "cells": [
  {
   "cell_type": "markdown",
   "id": "57f89967-881d-40e7-ac10-d5a0eaffdacc",
   "metadata": {},
   "source": [
    "### Introduction\n",
    "\n",
    "While thinking about the problem with your manual approach to building a model, you remember the professor of your statistics module at University talk about machine learning.\n",
    "\n",
    "---\n",
    "\n",
    "_**DEFINTION: MACHINE LEARNING**_\n",
    "\n",
    "_Machine learning (ML) is the study of computer algorithms that can improve automatically through experience and by the use of data. It is seen as a part of artificial intelligence. Machine learning algorithms build a model based on sample data, known as training data, in order to make predictions or decisions without being explicitly programmed to do so. Machine learning algorithms are used in a wide variety of applications, such as in medicine, email filtering, speech recognition, and computer vision, where it is difficult or unfeasible to develop conventional algorithms to perform the needed tasks._\n",
    "\n",
    "_Source: https://en.wikipedia.org/wiki/Machine_learning_\n",
    "\n",
    "---"
   ]
  },
  {
   "cell_type": "markdown",
   "id": "273e6c45-1c0e-4e2f-84e1-616e333c56c0",
   "metadata": {},
   "source": [
    "You also remember your professor talking about [scikit-learn](https://scikit-learn.org/stable/) which provides simple but powerful tools for Machine Learning in Python.\n"
   ]
  },
  {
   "cell_type": "code",
   "execution_count": null,
   "id": "68c3230a-548b-43c7-9ff8-2127efda622a",
   "metadata": {},
   "outputs": [],
   "source": []
  }
 ],
 "metadata": {
  "kernelspec": {
   "display_name": "Python 3 (ipykernel)",
   "language": "python",
   "name": "python3"
  },
  "language_info": {
   "codemirror_mode": {
    "name": "ipython",
    "version": 3
   },
   "file_extension": ".py",
   "mimetype": "text/x-python",
   "name": "python",
   "nbconvert_exporter": "python",
   "pygments_lexer": "ipython3",
   "version": "3.9.7"
  }
 },
 "nbformat": 4,
 "nbformat_minor": 5
}
