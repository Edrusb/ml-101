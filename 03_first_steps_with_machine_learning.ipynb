{
 "cells": [
  {
   "cell_type": "markdown",
   "id": "57f89967-881d-40e7-ac10-d5a0eaffdacc",
   "metadata": {},
   "source": [
    "### Introduction\n",
    "\n",
    "While thinking about the problem with your manual approach to building a model, you remember the professor of your statistics module at University talk about machine learning.\n",
    "\n",
    "---\n",
    "\n",
    "_**DEFINITION: MACHINE LEARNING**_\n",
    "\n",
    "_Machine learning (ML) is the study of computer algorithms that can improve automatically through experience and by the use of data. It is seen as a part of artificial intelligence. Machine learning algorithms build a model based on sample data, known as training data, in order to make predictions or decisions without being explicitly programmed to do so. Machine learning algorithms are used in a wide variety of applications, such as in medicine, email filtering, speech recognition, and computer vision, where it is difficult or unfeasible to develop conventional algorithms to perform the needed tasks._\n",
    "\n",
    "*Source: https://en.wikipedia.org/wiki/Machine_learning*\n",
    "\n",
    "---"
   ]
  },
  {
   "cell_type": "markdown",
   "id": "273e6c45-1c0e-4e2f-84e1-616e333c56c0",
   "metadata": {},
   "source": [
    "You also remember your professor talking about [scikit-learn](https://scikit-learn.org/stable/) which provides simple but powerful tools for Machine Learning in Python.\n"
   ]
  },
  {
   "cell_type": "markdown",
   "id": "013e9418-2154-4750-9171-4c8dc5383c37",
   "metadata": {},
   "source": [
    "You decide to reach out to your professor for guidance and she shares an example of training a basic machine learning model for the iris data set and then using that model to predict the class of new data:"
   ]
  },
  {
   "cell_type": "code",
   "execution_count": 1,
   "id": "68c3230a-548b-43c7-9ff8-2127efda622a",
   "metadata": {},
   "outputs": [
    {
     "name": "stderr",
     "output_type": "stream",
     "text": [
      "/opt/conda/lib/python3.9/site-packages/sklearn/svm/_base.py:1206: ConvergenceWarning: Liblinear failed to converge, increase the number of iterations.\n",
      "  warnings.warn(\n"
     ]
    }
   ],
   "source": [
    "# scikit-learn includes the iris data setup and a function to load it\n",
    "from sklearn.datasets import load_iris\n",
    "iris = load_iris()\n",
    "\n",
    "# load the iris features into 'X' and target (class) into 'y'\n",
    "X, y = iris.data, iris.target\n",
    "\n",
    "# Create a LinearSVC type of model - we will talk about different types of model later\n",
    "from sklearn.svm import LinearSVC\n",
    "clf = LinearSVC()\n",
    "\n",
    "# Train the model (i.e. learn from the iris data)\n",
    "clf = clf.fit(X, y)\n",
    "\n",
    "# Ignore the warning for now"
   ]
  },
  {
   "cell_type": "code",
   "execution_count": 2,
   "id": "3fdd7347-7ea8-4cf6-9942-29813850afb6",
   "metadata": {},
   "outputs": [
    {
     "data": {
      "text/plain": [
       "'[2]'"
      ]
     },
     "execution_count": 2,
     "metadata": {},
     "output_type": "execute_result"
    }
   ],
   "source": [
    "# create a dummy new iris that we want to predict it's class\n",
    "\n",
    "new_sepal_length = 5.9\n",
    "new_sepal_width = 3.0\n",
    "new_petal_length = 5.1\n",
    "new_petal_width = 1.8\n",
    "\n",
    "# when we use the model we can provide a list of iris' to predict\n",
    "# in our case we only have one iris in our list\n",
    "X_new = [ \n",
    "    [ new_sepal_length, new_sepal_width, new_petal_length, new_petal_width ] \n",
    "]\n",
    "\n",
    "# predict the class of our iris using our trained model (clf)\n",
    "prediction = clf.predict(X_new)\n",
    "\n",
    "# print out the class of our iris (0 == 'setosa', 1 == 'versicolor', 2 == 'virginica')\n",
    "str(prediction)"
   ]
  },
  {
   "cell_type": "markdown",
   "id": "39a06b32-4a31-4b6e-a62a-7c4baf352983",
   "metadata": {},
   "source": [
    "### Step-by-Step"
   ]
  },
  {
   "cell_type": "code",
   "execution_count": 3,
   "id": "0f8251ae-9693-4f61-a014-e56da2cbbbfd",
   "metadata": {},
   "outputs": [
    {
     "data": {
      "text/plain": [
       "array([[5.1, 3.5, 1.4, 0.2],\n",
       "       [4.9, 3. , 1.4, 0.2],\n",
       "       [4.7, 3.2, 1.3, 0.2],\n",
       "       [4.6, 3.1, 1.5, 0.2],\n",
       "       [5. , 3.6, 1.4, 0.2]])"
      ]
     },
     "execution_count": 3,
     "metadata": {},
     "output_type": "execute_result"
    }
   ],
   "source": [
    "X[0:5]"
   ]
  },
  {
   "cell_type": "markdown",
   "id": "f6d5b944-5d51-44d3-806e-080d8afffcf9",
   "metadata": {},
   "source": [
    "What is LinearSVC?"
   ]
  },
  {
   "cell_type": "code",
   "execution_count": 4,
   "id": "97020eb8-0121-4001-9cad-84172cec35ac",
   "metadata": {},
   "outputs": [
    {
     "data": {
      "text/plain": [
       "(array([0, 0, 0, 0, 0]), array([2, 2, 2, 2, 2]))"
      ]
     },
     "execution_count": 4,
     "metadata": {},
     "output_type": "execute_result"
    }
   ],
   "source": [
    "y[0:5], y[-5:]"
   ]
  },
  {
   "cell_type": "code",
   "execution_count": 5,
   "id": "87ac1eaa-dab9-4af5-85b6-594ae4790dd8",
   "metadata": {},
   "outputs": [
    {
     "data": {
      "text/plain": [
       "array(['setosa', 'versicolor', 'virginica'], dtype='<U10')"
      ]
     },
     "execution_count": 5,
     "metadata": {},
     "output_type": "execute_result"
    }
   ],
   "source": [
    "iris.target_names"
   ]
  },
  {
   "cell_type": "code",
   "execution_count": null,
   "id": "bdfe3751-23ef-4939-a91a-d52363efad16",
   "metadata": {},
   "outputs": [],
   "source": []
  }
 ],
 "metadata": {
  "kernelspec": {
   "display_name": "Python 3 (ipykernel)",
   "language": "python",
   "name": "python3"
  },
  "language_info": {
   "codemirror_mode": {
    "name": "ipython",
    "version": 3
   },
   "file_extension": ".py",
   "mimetype": "text/x-python",
   "name": "python",
   "nbconvert_exporter": "python",
   "pygments_lexer": "ipython3",
   "version": "3.9.7"
  }
 },
 "nbformat": 4,
 "nbformat_minor": 5
}
