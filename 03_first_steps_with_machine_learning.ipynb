{
 "cells": [
  {
   "cell_type": "markdown",
   "id": "57f89967-881d-40e7-ac10-d5a0eaffdacc",
   "metadata": {},
   "source": [
    "### Introduction\n",
    "\n",
    "While thinking about the problem with your manual approach to building a model, you remember the professor of your statistics module at University talk about machine learning.\n",
    "\n",
    "\n",
    "<div class=\"alert-info\">\n",
    "    \n",
    "---\n",
    "\n",
    "_**DEFINITION: MACHINE LEARNING**_\n",
    "\n",
    "_Machine learning (ML) is the study of **computer algorithms** that can **improve automatically through experience and by the use of data**. It is seen as a part of artificial intelligence. Machine learning algorithms **build a model** based on sample data, known as training data, in order to make predictions or decisions without being explicitly programmed to do so._\n",
    "    \n",
    "_Machine learning algorithms are used in a wide variety of applications, such as in medicine, email filtering, speech recognition, and computer vision, where it is difficult or unfeasible to develop conventional algorithms to perform the needed tasks._\n",
    "\n",
    "*Source: https://en.wikipedia.org/wiki/Machine_learning*\n",
    "\n",
    "---\n",
    "    \n",
    "</div>"
   ]
  },
  {
   "cell_type": "markdown",
   "id": "273e6c45-1c0e-4e2f-84e1-616e333c56c0",
   "metadata": {},
   "source": [
    "You also remember your professor talking about [scikit-learn](https://scikit-learn.org/stable/) which provides simple but powerful tools for Machine Learning in Python.\n"
   ]
  },
  {
   "cell_type": "markdown",
   "id": "013e9418-2154-4750-9171-4c8dc5383c37",
   "metadata": {},
   "source": [
    "You decide to reach out to your professor for guidance and she shares an example of training a basic machine learning model for the iris data set and then using that model to predict the class of new data:"
   ]
  },
  {
   "cell_type": "code",
   "execution_count": 10,
   "id": "68c3230a-548b-43c7-9ff8-2127efda622a",
   "metadata": {},
   "outputs": [
    {
     "name": "stderr",
     "output_type": "stream",
     "text": [
      "/opt/conda/lib/python3.9/site-packages/sklearn/svm/_base.py:1206: ConvergenceWarning: Liblinear failed to converge, increase the number of iterations.\n",
      "  warnings.warn(\n"
     ]
    }
   ],
   "source": [
    "# scikit-learn includes the iris data setup and a function to load it\n",
    "from sklearn.datasets import load_iris\n",
    "iris = load_iris()\n",
    "\n",
    "# load the iris features into 'X' and target (class) into 'y'\n",
    "X, y = iris.data, iris.target\n",
    "\n",
    "# Create a LinearSVC type of model - we will talk about different types of model later\n",
    "from sklearn.svm import LinearSVC\n",
    "classifier = LinearSVC()\n",
    "\n",
    "# Train the model (i.e. learn from the iris data)\n",
    "model = classifier.fit(X, y)\n",
    "\n",
    "# Ignore the warning for now"
   ]
  },
  {
   "cell_type": "markdown",
   "id": "03887edf-8802-47ef-955c-67766c4ae7b2",
   "metadata": {},
   "source": [
    "If you refer back to the definition of machine learning, above, you can see that:\n",
    "\n",
    "- We have used a machine learning **algorithm**: `model = LinearSVC()` (we will see other algorithms later in the course)\n",
    "- We have **trained** the algorithm with the Iris data: `classifier.fit(X, y)`\n",
    "- The result of training is machine learning **model**: `model = classifier.fit(X, y)`\n",
    "\n",
    "<div class=\"alert-warning\">\n",
    "    \n",
    "IMPORTANT: Take a few minutes to ensure you fully understand the concepts of algorithm, training and model!\n",
    "\n",
    "</div>"
   ]
  },
  {
   "cell_type": "code",
   "execution_count": 11,
   "id": "3fdd7347-7ea8-4cf6-9942-29813850afb6",
   "metadata": {},
   "outputs": [
    {
     "data": {
      "text/plain": [
       "'[2]'"
      ]
     },
     "execution_count": 11,
     "metadata": {},
     "output_type": "execute_result"
    }
   ],
   "source": [
    "# create dummy data for a new iris plant that we want to predict it's class\n",
    "\n",
    "new_sepal_length = 5.9\n",
    "new_sepal_width = 3.0\n",
    "new_petal_length = 5.1\n",
    "new_petal_width = 1.8\n",
    "\n",
    "# when we use the model we can provide a list of iris' to predict\n",
    "# in our case we only have one iris in our list\n",
    "X_new = [ \n",
    "    [ new_sepal_length, new_sepal_width, new_petal_length, new_petal_width ] \n",
    "]\n",
    "\n",
    "# predict the class of our iris using our trained model (clf)\n",
    "prediction = model.predict(X_new)\n",
    "\n",
    "# print out the class of our iris (0 == 'setosa', 1 == 'versicolor', 2 == 'virginica')\n",
    "str(prediction)"
   ]
  },
  {
   "cell_type": "markdown",
   "id": "82d0c72e-ce09-400b-9fa5-1096d7273378",
   "metadata": {},
   "source": [
    "### Summary\n",
    "\n",
    "Congratulations, you have built your first machine learning model and used it to predict the class of Iris based on its Sepal and Petal measurements.\n",
    "\n",
    "Over the next few notebooks we will drill into the above code and we will also explore more advanced concepts."
   ]
  },
  {
   "cell_type": "markdown",
   "id": "5c7783df-e442-4689-8cd0-d091456ceae4",
   "metadata": {},
   "source": [
    "### Navigation\n",
    "\n",
    "[Previous](./02_manual_method_issues.ipynb) | [Next](./04_scikit_datasets.ipynb) notebook"
   ]
  },
  {
   "cell_type": "code",
   "execution_count": null,
   "id": "38ecc995-9bca-4a22-949c-a9b89cf5dddb",
   "metadata": {},
   "outputs": [],
   "source": []
  }
 ],
 "metadata": {
  "kernelspec": {
   "display_name": "Python 3 (ipykernel)",
   "language": "python",
   "name": "python3"
  },
  "language_info": {
   "codemirror_mode": {
    "name": "ipython",
    "version": 3
   },
   "file_extension": ".py",
   "mimetype": "text/x-python",
   "name": "python",
   "nbconvert_exporter": "python",
   "pygments_lexer": "ipython3",
   "version": "3.9.7"
  }
 },
 "nbformat": 4,
 "nbformat_minor": 5
}
