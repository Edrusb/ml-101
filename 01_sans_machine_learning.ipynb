{
 "cells": [
  {
   "cell_type": "markdown",
   "id": "e5f48c1a-8154-4ce8-9734-8eb4501b501c",
   "metadata": {},
   "source": [
    "### Introduction"
   ]
  },
  {
   "cell_type": "markdown",
   "id": "a048dd28-c228-47a0-91d0-79795c8cf6f9",
   "metadata": {},
   "source": [
    "Before jumping into machine learning, let's try to solve a problem manually."
   ]
  },
  {
   "cell_type": "markdown",
   "id": "8f484a6f-4572-4220-b200-147d8d45ef50",
   "metadata": {},
   "source": [
    "You have started working as a researcher in a botanical garden and you noticed that botanists have been struggling to tell the difference between two types of Iris Setosa and Iris Versicolor plants because they look very similar.\n",
    "\n",
    "Luckily a friend of yours has taken some measurements of both types of plants.\n",
    "\n",
    "### Exploration of the problem\n",
    "\n",
    "Let's print out your friend's dataset:"
   ]
  },
  {
   "cell_type": "code",
   "execution_count": 1,
   "id": "eedf8749-5ba2-4699-aa35-a68197f70ee7",
   "metadata": {},
   "outputs": [
    {
     "data": {
      "text/html": [
       "<div>\n",
       "<style scoped>\n",
       "    .dataframe tbody tr th:only-of-type {\n",
       "        vertical-align: middle;\n",
       "    }\n",
       "\n",
       "    .dataframe tbody tr th {\n",
       "        vertical-align: top;\n",
       "    }\n",
       "\n",
       "    .dataframe thead th {\n",
       "        text-align: right;\n",
       "    }\n",
       "</style>\n",
       "<table border=\"1\" class=\"dataframe\">\n",
       "  <thead>\n",
       "    <tr style=\"text-align: right;\">\n",
       "      <th></th>\n",
       "      <th>Petal_Length</th>\n",
       "      <th>Petal_Width</th>\n",
       "      <th>Class</th>\n",
       "    </tr>\n",
       "  </thead>\n",
       "  <tbody>\n",
       "    <tr>\n",
       "      <th>0</th>\n",
       "      <td>1.4</td>\n",
       "      <td>0.2</td>\n",
       "      <td>Iris-setosa</td>\n",
       "    </tr>\n",
       "    <tr>\n",
       "      <th>1</th>\n",
       "      <td>1.5</td>\n",
       "      <td>0.2</td>\n",
       "      <td>Iris-setosa</td>\n",
       "    </tr>\n",
       "    <tr>\n",
       "      <th>2</th>\n",
       "      <td>1.5</td>\n",
       "      <td>0.2</td>\n",
       "      <td>Iris-setosa</td>\n",
       "    </tr>\n",
       "    <tr>\n",
       "      <th>3</th>\n",
       "      <td>1.6</td>\n",
       "      <td>0.2</td>\n",
       "      <td>Iris-setosa</td>\n",
       "    </tr>\n",
       "    <tr>\n",
       "      <th>4</th>\n",
       "      <td>1.5</td>\n",
       "      <td>0.4</td>\n",
       "      <td>Iris-setosa</td>\n",
       "    </tr>\n",
       "    <tr>\n",
       "      <th>5</th>\n",
       "      <td>1.5</td>\n",
       "      <td>0.3</td>\n",
       "      <td>Iris-setosa</td>\n",
       "    </tr>\n",
       "    <tr>\n",
       "      <th>6</th>\n",
       "      <td>1.7</td>\n",
       "      <td>0.5</td>\n",
       "      <td>Iris-setosa</td>\n",
       "    </tr>\n",
       "    <tr>\n",
       "      <th>7</th>\n",
       "      <td>1.5</td>\n",
       "      <td>0.2</td>\n",
       "      <td>Iris-setosa</td>\n",
       "    </tr>\n",
       "    <tr>\n",
       "      <th>8</th>\n",
       "      <td>1.5</td>\n",
       "      <td>0.4</td>\n",
       "      <td>Iris-setosa</td>\n",
       "    </tr>\n",
       "    <tr>\n",
       "      <th>9</th>\n",
       "      <td>1.2</td>\n",
       "      <td>0.2</td>\n",
       "      <td>Iris-setosa</td>\n",
       "    </tr>\n",
       "    <tr>\n",
       "      <th>10</th>\n",
       "      <td>1.5</td>\n",
       "      <td>0.2</td>\n",
       "      <td>Iris-setosa</td>\n",
       "    </tr>\n",
       "    <tr>\n",
       "      <th>11</th>\n",
       "      <td>1.6</td>\n",
       "      <td>0.6</td>\n",
       "      <td>Iris-setosa</td>\n",
       "    </tr>\n",
       "    <tr>\n",
       "      <th>12</th>\n",
       "      <td>1.4</td>\n",
       "      <td>0.2</td>\n",
       "      <td>Iris-setosa</td>\n",
       "    </tr>\n",
       "    <tr>\n",
       "      <th>13</th>\n",
       "      <td>4.5</td>\n",
       "      <td>1.5</td>\n",
       "      <td>Iris-versicolor</td>\n",
       "    </tr>\n",
       "    <tr>\n",
       "      <th>14</th>\n",
       "      <td>4.5</td>\n",
       "      <td>1.3</td>\n",
       "      <td>Iris-versicolor</td>\n",
       "    </tr>\n",
       "    <tr>\n",
       "      <th>15</th>\n",
       "      <td>3.9</td>\n",
       "      <td>1.4</td>\n",
       "      <td>Iris-versicolor</td>\n",
       "    </tr>\n",
       "    <tr>\n",
       "      <th>16</th>\n",
       "      <td>4.7</td>\n",
       "      <td>1.4</td>\n",
       "      <td>Iris-versicolor</td>\n",
       "    </tr>\n",
       "    <tr>\n",
       "      <th>17</th>\n",
       "      <td>4.1</td>\n",
       "      <td>1.0</td>\n",
       "      <td>Iris-versicolor</td>\n",
       "    </tr>\n",
       "    <tr>\n",
       "      <th>18</th>\n",
       "      <td>4.0</td>\n",
       "      <td>1.3</td>\n",
       "      <td>Iris-versicolor</td>\n",
       "    </tr>\n",
       "    <tr>\n",
       "      <th>19</th>\n",
       "      <td>4.4</td>\n",
       "      <td>1.4</td>\n",
       "      <td>Iris-versicolor</td>\n",
       "    </tr>\n",
       "    <tr>\n",
       "      <th>20</th>\n",
       "      <td>3.5</td>\n",
       "      <td>1.0</td>\n",
       "      <td>Iris-versicolor</td>\n",
       "    </tr>\n",
       "    <tr>\n",
       "      <th>21</th>\n",
       "      <td>5.1</td>\n",
       "      <td>1.6</td>\n",
       "      <td>Iris-versicolor</td>\n",
       "    </tr>\n",
       "    <tr>\n",
       "      <th>22</th>\n",
       "      <td>4.4</td>\n",
       "      <td>1.3</td>\n",
       "      <td>Iris-versicolor</td>\n",
       "    </tr>\n",
       "    <tr>\n",
       "      <th>23</th>\n",
       "      <td>4.6</td>\n",
       "      <td>1.4</td>\n",
       "      <td>Iris-versicolor</td>\n",
       "    </tr>\n",
       "    <tr>\n",
       "      <th>24</th>\n",
       "      <td>4.2</td>\n",
       "      <td>1.2</td>\n",
       "      <td>Iris-versicolor</td>\n",
       "    </tr>\n",
       "    <tr>\n",
       "      <th>25</th>\n",
       "      <td>4.1</td>\n",
       "      <td>1.3</td>\n",
       "      <td>Iris-versicolor</td>\n",
       "    </tr>\n",
       "  </tbody>\n",
       "</table>\n",
       "</div>"
      ],
      "text/plain": [
       "    Petal_Length  Petal_Width            Class\n",
       "0            1.4          0.2      Iris-setosa\n",
       "1            1.5          0.2      Iris-setosa\n",
       "2            1.5          0.2      Iris-setosa\n",
       "3            1.6          0.2      Iris-setosa\n",
       "4            1.5          0.4      Iris-setosa\n",
       "5            1.5          0.3      Iris-setosa\n",
       "6            1.7          0.5      Iris-setosa\n",
       "7            1.5          0.2      Iris-setosa\n",
       "8            1.5          0.4      Iris-setosa\n",
       "9            1.2          0.2      Iris-setosa\n",
       "10           1.5          0.2      Iris-setosa\n",
       "11           1.6          0.6      Iris-setosa\n",
       "12           1.4          0.2      Iris-setosa\n",
       "13           4.5          1.5  Iris-versicolor\n",
       "14           4.5          1.3  Iris-versicolor\n",
       "15           3.9          1.4  Iris-versicolor\n",
       "16           4.7          1.4  Iris-versicolor\n",
       "17           4.1          1.0  Iris-versicolor\n",
       "18           4.0          1.3  Iris-versicolor\n",
       "19           4.4          1.4  Iris-versicolor\n",
       "20           3.5          1.0  Iris-versicolor\n",
       "21           5.1          1.6  Iris-versicolor\n",
       "22           4.4          1.3  Iris-versicolor\n",
       "23           4.6          1.4  Iris-versicolor\n",
       "24           4.2          1.2  Iris-versicolor\n",
       "25           4.1          1.3  Iris-versicolor"
      ]
     },
     "execution_count": 1,
     "metadata": {},
     "output_type": "execute_result"
    }
   ],
   "source": [
    "# use pandas (https://pandas.pydata.org/) a fast, powerful, flexible and easy to use open source data analysis and manipulation tool\n",
    "import pandas as pd\n",
    "\n",
    "# load the dataset\n",
    "iris = pd.read_csv(\"iris_subset.csv\")\n",
    "\n",
    "# print out the dataset\n",
    "iris"
   ]
  },
  {
   "cell_type": "markdown",
   "id": "7d4caf7a-938f-419a-98ba-f8a8f17ee63c",
   "metadata": {},
   "source": [
    "Your goal was to come up with an API that allows users to enter the petal length and petal width and it will predict the Class of Iris.\n",
    "\n",
    "Let's plot the dataset from your friend to look for any interesting patterns."
   ]
  },
  {
   "cell_type": "code",
   "execution_count": 2,
   "id": "faaaf8ab-22ca-4d66-9b70-90a7ef1f9a92",
   "metadata": {},
   "outputs": [
    {
     "data": {
      "image/png": "[encoded data removed]",
      "text/plain": [
       "<Figure size 720x576 with 1 Axes>"
      ]
     },
     "metadata": {},
     "output_type": "display_data"
    }
   ],
   "source": [
    "# use seaborn (https://seaborn.pydata.org/) a library for drawing attractive and informative statistical graphics\n",
    "import seaborn as sns\n",
    "\n",
    "# increase the plot size\n",
    "sns.set( rc={'figure.figsize':(10, 8)} )\n",
    "\n",
    "# use the seaborn scatterplot function to print out the data set\n",
    "plot = sns.scatterplot (\n",
    "        x = iris['Petal_Length'], \n",
    "        y = iris['Petal_Width'], \n",
    "        hue = iris['Class'], \n",
    "        s=100\n",
    "    )"
   ]
  },
  {
   "cell_type": "markdown",
   "id": "8d75c876-4bde-46f6-9936-5ef15f2dfeff",
   "metadata": {
    "tags": []
   },
   "source": [
    "### Build a prediction engine"
   ]
  },
  {
   "cell_type": "markdown",
   "id": "ac597d48-0a53-45ce-976b-b8194923b037",
   "metadata": {},
   "source": [
    "We are really excited by our analysis and think we can easily build an Iris predictor.\n",
    "\n",
    "One way to decide the class of Iris flower is to draw a verical line separating the data points.\n",
    "\n",
    "**Exercise 01:** where would you draw a line?"
   ]
  },
  {
   "cell_type": "code",
   "execution_count": 3,
   "id": "a33af9e2-968c-4ba9-80a7-57ae2d03d667",
   "metadata": {},
   "outputs": [],
   "source": [
    "YOUR_PETAL_LENGTH_DECIDER = 2.7 ### enter a float value ####"
   ]
  },
  {
   "cell_type": "code",
   "execution_count": 4,
   "id": "92161ad9-9953-4b9c-b2df-dd2e5859656d",
   "metadata": {},
   "outputs": [
    {
     "data": {
      "text/plain": [
       "<matplotlib.lines.Line2D at 0x7f491c828430>"
      ]
     },
     "execution_count": 4,
     "metadata": {},
     "output_type": "execute_result"
    },
    {
     "data": {
      "image/png": "[encoded data removed]",
      "text/plain": [
       "<Figure size 720x576 with 1 Axes>"
      ]
     },
     "metadata": {},
     "output_type": "display_data"
    }
   ],
   "source": [
    "# plot the data again\n",
    "plot = sns.scatterplot(x=iris['Petal_Length'], y=iris['Petal_Width'], hue=iris['Class'], s=100)\n",
    "\n",
    "# now add a verical line to the plot\n",
    "plot.axvline(YOUR_PETAL_LENGTH_DECIDER)"
   ]
  },
  {
   "cell_type": "markdown",
   "id": "e1874526-6a43-4094-ae7f-b5109b3a064f",
   "metadata": {},
   "source": [
    "We can now implement a simple function that uses YOUR_PETAL_LENGTH_DECIDER to determine the class of Iris"
   ]
  },
  {
   "cell_type": "code",
   "execution_count": 5,
   "id": "bf56de65-46d8-4b47-b46d-1a08c318a6a9",
   "metadata": {},
   "outputs": [],
   "source": [
    "def iris_predictor( petal_length ):\n",
    "    if petal_length < YOUR_PETAL_LENGTH_DECIDER:\n",
    "        return \"Iris-setosa\"\n",
    "    else:\n",
    "        return \"Iris-versicolor\""
   ]
  },
  {
   "cell_type": "markdown",
   "id": "cb4bd28f-f824-4295-9c5d-c9fb3a728b5b",
   "metadata": {},
   "source": [
    "### Test your prediction engine\n",
    "\n",
    "**Exercise 02:** Test your predictor\n",
    "\n",
    "Try some different values of petal length and observe the prediction"
   ]
  },
  {
   "cell_type": "code",
   "execution_count": 6,
   "id": "c6483a6c-c4ab-4101-a7cc-7cc9c4c76e0d",
   "metadata": {},
   "outputs": [
    {
     "data": {
      "text/plain": [
       "'Iris-setosa'"
      ]
     },
     "execution_count": 6,
     "metadata": {},
     "output_type": "execute_result"
    }
   ],
   "source": [
    "iris_predictor( petal_length=1.5 ) "
   ]
  },
  {
   "cell_type": "code",
   "execution_count": 7,
   "id": "dc92d0b9-d705-4b51-a7e4-5b15519a5789",
   "metadata": {},
   "outputs": [
    {
     "data": {
      "text/plain": [
       "'Iris-versicolor'"
      ]
     },
     "execution_count": 7,
     "metadata": {},
     "output_type": "execute_result"
    }
   ],
   "source": [
    "iris_predictor( petal_length=3.5 )"
   ]
  },
  {
   "cell_type": "markdown",
   "id": "9d3c5732-3afa-48f0-bf1b-4b3838acd54e",
   "metadata": {},
   "source": [
    "While this test is useful to ensure we haven't made any big mistakes in our logic, we should verify the predictor with new data.\n",
    "\n",
    "While you have been busy building our prediction engine, your friend has been collecting more data"
   ]
  },
  {
   "cell_type": "code",
   "execution_count": 8,
   "id": "3f15054e-c21c-47df-9662-6a8c36cabca7",
   "metadata": {},
   "outputs": [
    {
     "data": {
      "text/html": [
       "<div>\n",
       "<style scoped>\n",
       "    .dataframe tbody tr th:only-of-type {\n",
       "        vertical-align: middle;\n",
       "    }\n",
       "\n",
       "    .dataframe tbody tr th {\n",
       "        vertical-align: top;\n",
       "    }\n",
       "\n",
       "    .dataframe thead th {\n",
       "        text-align: right;\n",
       "    }\n",
       "</style>\n",
       "<table border=\"1\" class=\"dataframe\">\n",
       "  <thead>\n",
       "    <tr style=\"text-align: right;\">\n",
       "      <th></th>\n",
       "      <th>Petal_Length</th>\n",
       "      <th>Petal_Width</th>\n",
       "      <th>Class</th>\n",
       "    </tr>\n",
       "  </thead>\n",
       "  <tbody>\n",
       "    <tr>\n",
       "      <th>0</th>\n",
       "      <td>1.4</td>\n",
       "      <td>0.2</td>\n",
       "      <td>Iris-setosa</td>\n",
       "    </tr>\n",
       "    <tr>\n",
       "      <th>1</th>\n",
       "      <td>1.4</td>\n",
       "      <td>0.2</td>\n",
       "      <td>Iris-setosa</td>\n",
       "    </tr>\n",
       "    <tr>\n",
       "      <th>2</th>\n",
       "      <td>1.4</td>\n",
       "      <td>0.2</td>\n",
       "      <td>Iris-setosa</td>\n",
       "    </tr>\n",
       "    <tr>\n",
       "      <th>3</th>\n",
       "      <td>1.4</td>\n",
       "      <td>0.1</td>\n",
       "      <td>Iris-setosa</td>\n",
       "    </tr>\n",
       "    <tr>\n",
       "      <th>4</th>\n",
       "      <td>1.3</td>\n",
       "      <td>0.4</td>\n",
       "      <td>Iris-setosa</td>\n",
       "    </tr>\n",
       "  </tbody>\n",
       "</table>\n",
       "</div>"
      ],
      "text/plain": [
       "   Petal_Length  Petal_Width        Class\n",
       "0           1.4          0.2  Iris-setosa\n",
       "1           1.4          0.2  Iris-setosa\n",
       "2           1.4          0.2  Iris-setosa\n",
       "3           1.4          0.1  Iris-setosa\n",
       "4           1.3          0.4  Iris-setosa"
      ]
     },
     "execution_count": 8,
     "metadata": {},
     "output_type": "execute_result"
    }
   ],
   "source": [
    "# read the test dataset\n",
    "test_data = pd.read_csv(\"iris_test.csv\")\n",
    "\n",
    "# print the first few records\n",
    "test_data.head()"
   ]
  },
  {
   "cell_type": "code",
   "execution_count": 9,
   "id": "7250ff33-e010-412b-b7c3-96969fa27d92",
   "metadata": {},
   "outputs": [
    {
     "data": {
      "text/plain": [
       "0         Iris-setosa\n",
       "1         Iris-setosa\n",
       "2         Iris-setosa\n",
       "3         Iris-setosa\n",
       "4         Iris-setosa\n",
       "5         Iris-setosa\n",
       "6         Iris-setosa\n",
       "7         Iris-setosa\n",
       "8         Iris-setosa\n",
       "9         Iris-setosa\n",
       "10        Iris-setosa\n",
       "11        Iris-setosa\n",
       "12        Iris-setosa\n",
       "13    Iris-versicolor\n",
       "14    Iris-versicolor\n",
       "15    Iris-versicolor\n",
       "16    Iris-versicolor\n",
       "17    Iris-versicolor\n",
       "18    Iris-versicolor\n",
       "19    Iris-versicolor\n",
       "20    Iris-versicolor\n",
       "21    Iris-versicolor\n",
       "22    Iris-versicolor\n",
       "23    Iris-versicolor\n",
       "24    Iris-versicolor\n",
       "Name: Petal_Length, dtype: object"
      ]
     },
     "execution_count": 9,
     "metadata": {},
     "output_type": "execute_result"
    }
   ],
   "source": [
    "# create a new column 'predicted_class' by applying our iris_predictor function to each value of Petal_Length\n",
    "predicted_class = test_data['Petal_Length'].apply( lambda x: iris_predictor(x) )\n",
    "\n",
    "# view the new column\n",
    "predicted_class"
   ]
  },
  {
   "cell_type": "code",
   "execution_count": 10,
   "id": "2cbacc3d-a25c-4062-9c91-1fb50e023ff2",
   "metadata": {},
   "outputs": [
    {
     "data": {
      "text/plain": [
       "0     True\n",
       "1     True\n",
       "2     True\n",
       "3     True\n",
       "4     True\n",
       "5     True\n",
       "6     True\n",
       "7     True\n",
       "8     True\n",
       "9     True\n",
       "10    True\n",
       "11    True\n",
       "12    True\n",
       "13    True\n",
       "14    True\n",
       "15    True\n",
       "16    True\n",
       "17    True\n",
       "18    True\n",
       "19    True\n",
       "20    True\n",
       "21    True\n",
       "22    True\n",
       "23    True\n",
       "24    True\n",
       "dtype: bool"
      ]
     },
     "execution_count": 10,
     "metadata": {},
     "output_type": "execute_result"
    }
   ],
   "source": [
    "# compare the predicted column to our new column\n",
    "predicted_class == test_data['Class']"
   ]
  },
  {
   "cell_type": "markdown",
   "id": "1488a201-1e35-41eb-9cde-b62edbb12d9c",
   "metadata": {},
   "source": [
    "Our engine was able to correctly predict all of the new data!!!\n",
    "\n",
    "Let's call it a day with this fantasic win in the bag :)"
   ]
  },
  {
   "cell_type": "markdown",
   "id": "2511d0d7-b1bb-4139-b5c5-38be7c5ef963",
   "metadata": {},
   "source": [
    "### Summary\n",
    "\n",
    "In this notebook, you manually created an algorithm (without machine learning) that was able to predict Iris flower classes based on the petal length.\n",
    "\n",
    "**Questions:**\n",
    "\n",
    "- What happens when we have more data?  I.e. how do we re-train the predictor?\n",
    "- How would we build a predictor that has more features (e.g. Sepal Length and Sepal Width)?\n",
    "- What type of prediction did we do? (regression, classification, clustering)\n",
    "- What type of approach did we use? (supervised, semi-supervised, unsupervised and reinforcement)"
   ]
  },
  {
   "cell_type": "code",
   "execution_count": null,
   "id": "84d0761c-9916-4d2e-a382-1acd728e756a",
   "metadata": {},
   "outputs": [],
   "source": []
  }
 ],
 "metadata": {
  "kernelspec": {
   "display_name": "Python 3 (ipykernel)",
   "language": "python",
   "name": "python3"
  },
  "language_info": {
   "codemirror_mode": {
    "name": "ipython",
    "version": 3
   },
   "file_extension": ".py",
   "mimetype": "text/x-python",
   "name": "python",
   "nbconvert_exporter": "python",
   "pygments_lexer": "ipython3",
   "version": "3.9.7"
  }
 },
 "nbformat": 4,
 "nbformat_minor": 5
}
