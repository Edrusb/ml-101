{
 "cells": [
  {
   "cell_type": "markdown",
   "id": "c99963ba-ceef-4530-9e36-adc86ace1561",
   "metadata": {},
   "source": [
    "### Introduction\n",
    "\n",
    "In notebook [03 first steps with machine learning](./03_first_steps_with_machine_learning.ipynb) we used a method `predict()` on the model to predict the class of a new Iris:\n",
    "\n",
    "```python\n",
    "prediction = model.predict(X_new)\n",
    "\n",
    "str(prediction) # -> [2]\n",
    "```"
   ]
  },
  {
   "cell_type": "markdown",
   "id": "d4b0f4d6-9ce3-45a8-92f2-e1c793cc7ddb",
   "metadata": {},
   "source": [
    "### Calling predict on a saved model\n",
    "\n",
    "We can also call `predict()` on a saved model, for example:"
   ]
  },
  {
   "cell_type": "code",
   "execution_count": 7,
   "id": "2449958b-4d92-4f83-a8ab-44b2594e8f98",
   "metadata": {},
   "outputs": [
    {
     "data": {
      "text/plain": [
       "'[2]'"
      ]
     },
     "execution_count": 7,
     "metadata": {},
     "output_type": "execute_result"
    }
   ],
   "source": [
    "from joblib import dump, load\n",
    "\n",
    "model_file = load('iris_model.joblib') \n",
    "\n",
    "new_sepal_length = 5.9\n",
    "new_sepal_width = 3.0\n",
    "new_petal_length = 5.1\n",
    "new_petal_width = 1.8\n",
    "\n",
    "X_new = [ \n",
    "    [ new_sepal_length, new_sepal_width, new_petal_length, new_petal_width ] \n",
    "]\n",
    "\n",
    "prediction = model_file.predict(X_new)\n",
    "\n",
    "str(prediction)"
   ]
  },
  {
   "cell_type": "markdown",
   "id": "dae2aa1d-fd30-4d2e-b7b5-5f29048da9c4",
   "metadata": {},
   "source": [
    "This allows us to share models, for example with the team responsible for deploying models."
   ]
  },
  {
   "cell_type": "markdown",
   "id": "b3972c8c-9b81-41f8-b5e6-9d6a8547fbf2",
   "metadata": {},
   "source": [
    "### Navigation\n",
    "\n",
    "[Previous](./10_model_persistence.ipynb) | [Next](./98_outro.ipynb) notebook"
   ]
  },
  {
   "cell_type": "code",
   "execution_count": null,
   "id": "8ee72f24-0f95-4095-abf5-72e63413cf7d",
   "metadata": {},
   "outputs": [],
   "source": []
  }
 ],
 "metadata": {
  "kernelspec": {
   "display_name": "Python 3 (ipykernel)",
   "language": "python",
   "name": "python3"
  },
  "language_info": {
   "codemirror_mode": {
    "name": "ipython",
    "version": 3
   },
   "file_extension": ".py",
   "mimetype": "text/x-python",
   "name": "python",
   "nbconvert_exporter": "python",
   "pygments_lexer": "ipython3",
   "version": "3.9.7"
  }
 },
 "nbformat": 4,
 "nbformat_minor": 5
}
