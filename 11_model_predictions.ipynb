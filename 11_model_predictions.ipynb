{
 "cells": [
  {
   "cell_type": "markdown",
   "id": "c99963ba-ceef-4530-9e36-adc86ace1561",
   "metadata": {},
   "source": [
    "### Introduction\n",
    "\n",
    "TODO ..."
   ]
  },
  {
   "cell_type": "markdown",
   "id": "b3972c8c-9b81-41f8-b5e6-9d6a8547fbf2",
   "metadata": {},
   "source": [
    "### Navigation\n",
    "\n",
    "[Previous](./10_model_persistence.ipynb) | [Next](./98_outro.ipynb) notebook"
   ]
  },
  {
   "cell_type": "code",
   "execution_count": null,
   "id": "8ee72f24-0f95-4095-abf5-72e63413cf7d",
   "metadata": {},
   "outputs": [],
   "source": []
  }
 ],
 "metadata": {
  "kernelspec": {
   "display_name": "Python 3 (ipykernel)",
   "language": "python",
   "name": "python3"
  },
  "language_info": {
   "codemirror_mode": {
    "name": "ipython",
    "version": 3
   },
   "file_extension": ".py",
   "mimetype": "text/x-python",
   "name": "python",
   "nbconvert_exporter": "python",
   "pygments_lexer": "ipython3",
   "version": "3.9.7"
  }
 },
 "nbformat": 4,
 "nbformat_minor": 5
}
