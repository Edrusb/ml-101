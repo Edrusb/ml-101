{
 "cells": [
  {
   "cell_type": "markdown",
   "id": "2f0743a6-722b-4edf-a87a-4e3c03ffc320",
   "metadata": {},
   "source": [
    "TODO ..."
   ]
  },
  {
   "cell_type": "markdown",
   "id": "0f4e951d-a99c-498c-b516-752b3f3d7214",
   "metadata": {},
   "source": [
    "https://scikit-learn.org/stable/modules/model_evaluation.html"
   ]
  },
  {
   "cell_type": "code",
   "execution_count": null,
   "id": "9c95ec4f-b4aa-4aba-89cb-8d50c4318d1e",
   "metadata": {},
   "outputs": [],
   "source": []
  }
 ],
 "metadata": {
  "kernelspec": {
   "display_name": "Python 3 (ipykernel)",
   "language": "python",
   "name": "python3"
  },
  "language_info": {
   "codemirror_mode": {
    "name": "ipython",
    "version": 3
   },
   "file_extension": ".py",
   "mimetype": "text/x-python",
   "name": "python",
   "nbconvert_exporter": "python",
   "pygments_lexer": "ipython3",
   "version": "3.9.7"
  }
 },
 "nbformat": 4,
 "nbformat_minor": 5
}
