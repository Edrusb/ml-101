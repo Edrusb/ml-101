{
 "cells": [
  {
   "cell_type": "markdown",
   "id": "350f6d32-fa63-48c7-9bde-bd3e8dec7c7d",
   "metadata": {},
   "source": [
    "### Introduction\n",
    "\n",
    "In this section we go deeper into the topics of machine learning models and approaches to machine learning.\n",
    "\n",
    "### Questions\n",
    "\n",
    "Try to think of the answers to these questions before continuing.  The answers will be provided for you later, but it will help your memory if try to think them through yourself first.\n",
    "\n",
    " 1. What approach did we use to build the Iris model, e.g. Supervised Learning, Unsupervised Learning, Semi-supervised Learning?\n",
    " 2. Can you remember what type of machine learning algoritm (Classification, Clustering or Regression) we were did on the Iris dataset?\n",
    " 3. Can you remember what algorithm we used?\n",
    "\n",
    "### Machine Learning Approaches\n",
    "\n",
    "Let's first understand a bnit more about the different approaches to machine learning.  The common ones are Supervised Learning, Unsupervised Learning, Semi-supervised Learning. \n",
    "\n",
    "But what do they mean?  To keep things simple, let's focus on the first two:\n",
    "\n",
    "<div class=\"alert-info\">\n",
    "    \n",
    "---\n",
    "_**DEFINITION: SUPERVISED LEARNING**_\n",
    "\n",
    "_Supervised learning is the processs of machine learning where data is provided to the agorithm that has one or more FEATURE values and one or more TARGET values._\n",
    "    \n",
    "_In the Iris model, the first four column were the features and the last column was the target_\n",
    "\n",
    "| Sepal_Length | Sepal_Width | Petal_Length | Petal_Width | Class       |\n",
    "| -----------: | ----------: | -----------: | ----------: | ----------: |\n",
    "|          5.1 |         3.5 |          1.4 |         0.2 | Iris-setosa |\n",
    "|          ... |         ... |          ... |         ... | ... |\n",
    "|          5.9 |         3.0 |          5.1 |         1.8 | Iris-versicolor |\n",
    "    \n",
    "\n",
    "_**DEFINITION: UNSUPERVISED LEARNING**_\n",
    "\n",
    "_Unsupervised learning is the processs of machine learning where data is provided to the agorithm that has one or more FEATURE values but no TARGET values._\n",
    "    \n",
    "_Unsupervised learning learns patterns from untagged data.  For example, it may predict clusters of Iris flowers based on their FEATURE measurements_\n",
    "\n",
    "  \n",
    "---\n",
    "</div>"
   ]
  },
  {
   "cell_type": "markdown",
   "id": "cad6a6a4-19e2-4fcf-86b6-8a683392c1fd",
   "metadata": {},
   "source": [
    "![algorithms](https://scikit-learn.org/stable/_static/ml_map.png)\n",
    "\n",
    "Source: https://scikit-learn.org/stable/tutorial/machine_learning_map/index.html"
   ]
  },
  {
   "cell_type": "code",
   "execution_count": null,
   "id": "6adc9ece-7209-4f5a-9696-c761ecc33014",
   "metadata": {},
   "outputs": [],
   "source": []
  }
 ],
 "metadata": {
  "kernelspec": {
   "display_name": "Python 3 (ipykernel)",
   "language": "python",
   "name": "python3"
  },
  "language_info": {
   "codemirror_mode": {
    "name": "ipython",
    "version": 3
   },
   "file_extension": ".py",
   "mimetype": "text/x-python",
   "name": "python",
   "nbconvert_exporter": "python",
   "pygments_lexer": "ipython3",
   "version": "3.9.7"
  }
 },
 "nbformat": 4,
 "nbformat_minor": 5
}
