{
 "cells": [
  {
   "cell_type": "markdown",
   "id": "b31ea411-d6df-45d0-99e9-9541438d66b0",
   "metadata": {},
   "source": [
    "### Further learning resources\n",
    "\n",
    "- pandas\n",
    "- seaborn\n",
    "- matplotlib\n",
    "- Spark 101\n",
    "- Deep Learning 101\n",
    "\n",
    "### Topics not covered\n",
    "\n",
    "These topics are more advanced\n",
    "\n",
    "\n",
    "- Ensemble Methods and Pipelines\n",
    "- Feature Engineering\n",
    "- Deep Learning\n",
    "- Reinforcement Learning\n",
    "- Dimensionality Reduction\n",
    "- accuracy?\n",
    "- HPO\n",
    "- exploratory analytics"
   ]
  },
  {
   "cell_type": "markdown",
   "id": "a38a8098-e748-4cfe-95a4-c8dcfc5fe9c4",
   "metadata": {},
   "source": []
  },
  {
   "cell_type": "code",
   "execution_count": null,
   "id": "844eccd1-bdf0-4a61-b5e1-c3e9dc677f60",
   "metadata": {},
   "outputs": [],
   "source": []
  }
 ],
 "metadata": {
  "kernelspec": {
   "display_name": "Python 3 (ipykernel)",
   "language": "python",
   "name": "python3"
  },
  "language_info": {
   "codemirror_mode": {
    "name": "ipython",
    "version": 3
   },
   "file_extension": ".py",
   "mimetype": "text/x-python",
   "name": "python",
   "nbconvert_exporter": "python",
   "pygments_lexer": "ipython3",
   "version": "3.9.7"
  }
 },
 "nbformat": 4,
 "nbformat_minor": 5
}
