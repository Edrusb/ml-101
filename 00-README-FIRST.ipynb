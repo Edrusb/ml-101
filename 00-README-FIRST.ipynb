{
 "cells": [
  {
   "cell_type": "markdown",
   "metadata": {},
   "source": [
    "### Course Objectives\n",
    "\n",
    "In this workshop, we will learn the basics on Machine Learning by being hands-on.\n",
    "\n",
    "We will create some basic machine learning models and use them to make predictions.\n",
    "\n",
    "We are NOT attempting to teach you to become a datascientist!!"
   ]
  },
  {
   "cell_type": "markdown",
   "metadata": {},
   "source": [
    "### Pre-requisites\n",
    "\n",
    "You should have basic Python knowledge and be familiar with using Jupyter Notebooks.  If not, the following free hands-on workshops are recommended:\n",
    "\n",
    " - [Python 101](https://hackshack.hpedev.io/workshop/15)\n",
    " - [Jupyter Notebooks 101](https://hackshack.hpedev.io/workshop/25)\n",
    " \n",
    " If you are completely new to machine learning, the following free course is recommended to understand the concepts:\n",
    " \n",
    " - [Artificial Intelligence & Machine Learning Concepts](https://learn.ezmeral.software.hpe.com/page/artificial-intelligence-machine-learning)\n"
   ]
  },
  {
   "cell_type": "markdown",
   "metadata": {},
   "source": [
    "\n",
    "### Contents"
   ]
  },
  {
   "cell_type": "markdown",
   "metadata": {},
   "source": [
    "| Notebook      | Description |\n",
    "| ----------- | ----------- |\n",
    "| [01 sans machine learning](./01_sans_machine_learning.ipynb) | build a prediction model without machine learning |\n",
    "| [02 manual method issues](./02_manual_method_issues.ipynb) | understand the issues with our manual approach |\n",
    "| [03 first steps with machine learning](./03_first_steps_with_machine_learning.ipynb) | create a prediction model using scikit-learn |\n",
    "| [04 scikit datasets](./04_scikit_datasets.ipynb) | explore the Iris dataset provided with scikit-learn |\n",
    "| [05 ML approaches and algorithms](./05_ML_approaches_and_algorithms.ipynb) | explore machine learning basic concepts |\n",
    "| [06 Sckit-Learn algorithm cheetsheet](./06_Sckit-Learn_algorithm_cheetsheet.ipynb) | explore further machine learning concepts |\n",
    "| [07 estimator parameters](./07_estimator_parameters.ipynb) | TODO |\n",
    "| [08 test and train split](./08_test_and_train_split.ipynb) | TODO |\n",
    "| [09 model performance](./09_model_performance.ipynb) | TODO |\n",
    "| [96 topics not covered](./96_topics_not_covered.ipynb) | TODO |\n",
    "| [98 further resources](./98_further_resources.ipynb) | TODOv\n",
    "| [99 answers 04 scikit datasets](./99_answers_04_scikit_datasets.ipynb) | TODO |"
   ]
  },
  {
   "cell_type": "markdown",
   "metadata": {},
   "source": [
    "### How to run the workshop\n",
    "\n",
    "If you wish to try these notebooks:\n",
    "\n",
    " - on your laptop run `docker run -it -p 8888:8888 jupyter/scipy-notebook`\n",
    " - with your browser open the link output by the previous command\n",
    " - in jupyter open a terminal\n",
    " - run `git clone https://github.com/snowch/ml-101`"
   ]
  },
  {
   "cell_type": "code",
   "execution_count": null,
   "metadata": {},
   "outputs": [],
   "source": []
  }
 ],
 "metadata": {
  "kernelspec": {
   "display_name": "Python 3 (ipykernel)",
   "language": "python",
   "name": "python3"
  },
  "language_info": {
   "codemirror_mode": {
    "name": "ipython",
    "version": 3
   },
   "file_extension": ".py",
   "mimetype": "text/x-python",
   "name": "python",
   "nbconvert_exporter": "python",
   "pygments_lexer": "ipython3",
   "version": "3.9.7"
  }
 },
 "nbformat": 4,
 "nbformat_minor": 4
}
