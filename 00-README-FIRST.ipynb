{
 "cells": [
  {
   "cell_type": "markdown",
   "metadata": {},
   "source": [
    "### Course Objectives\n",
    "\n",
    "In this workshop, we will learn the basics on Machine Learning by being hands-on.\n",
    "\n",
    "We will create some basic machine learning models and use them to make predictions.\n",
    "\n",
    "We are NOT attempting to teach you to become a datascientist!!"
   ]
  },
  {
   "cell_type": "markdown",
   "metadata": {},
   "source": [
    "### Pre-requisites\n",
    "\n",
    "You should have basic Python knowledge and be familiar with using Jupyter Notebooks.  If not, the following free hands-on workshops are recommended:\n",
    "\n",
    " - [Python 101](https://hackshack.hpedev.io/workshop/15)\n",
    " - [Jupyter Notebooks 101](https://hackshack.hpedev.io/workshop/25)\n",
    " \n",
    " If you are completely new to machine learning, the following free course is recommended to understand the concepts:\n",
    " \n",
    " - [Artificial Intelligence & Machine Learning Concepts](https://learn.ezmeral.software.hpe.com/page/artificial-intelligence-machine-learning)\n"
   ]
  },
  {
   "cell_type": "markdown",
   "metadata": {},
   "source": [
    "### Contents"
   ]
  },
  {
   "cell_type": "markdown",
   "metadata": {},
   "source": [
    "- [01_sans_machine_learning](./01_sans_machine_learning.ipynb) build a prediction model without using machine learning\n",
    "- [02_manual_method_issues](./02_manual_method_issues.ipynb) understand the issues with our manual approach\n",
    "- [03_first_steps_with_machine_learning](./03_first_steps_with_machine_learning.ipynb) ... TODO\n",
    "- [04_scikit_datasets](./04_scikit_datasets.ipynb) ... TODO\n",
    "- [05_ML_approaches_and_algorithms](./05_ML_approaches_and_algorithms.ipynb) ... TODO\n",
    "- [06_Sckit-Learn_algorithm_cheetsheet](./06_Sckit-Learn_algorithm_cheetsheet.ipynb) ... TODO\n",
    "- [07_estimator_parameters](./07_estimator_parameters.ipynb) ... TODO\n",
    "- [96_topics_not_covered](./96_topics_not_covered.ipynb) ... TODO\n",
    "- [98_further_resources](./98_further_resources.ipynb) ... TODO\n",
    "- [99_answers_04_scikit_datasets](./99_answers_04_scikit_datasets.ipynb) ... TODO"
   ]
  },
  {
   "cell_type": "markdown",
   "metadata": {},
   "source": [
    "### Environment\n",
    "\n",
    "If you wish to try these notebooks:\n",
    "\n",
    " - run `docker run -it -p 8888:8888 jupyter/scipy-notebook`\n",
    " - with your browser open the link output by the previous command\n",
    " - in jupyter open a terminal\n",
    " - run `git clone https://github.com/snowch/ml-101`"
   ]
  },
  {
   "cell_type": "code",
   "execution_count": null,
   "metadata": {},
   "outputs": [],
   "source": []
  }
 ],
 "metadata": {
  "kernelspec": {
   "display_name": "Python 3 (ipykernel)",
   "language": "python",
   "name": "python3"
  },
  "language_info": {
   "codemirror_mode": {
    "name": "ipython",
    "version": 3
   },
   "file_extension": ".py",
   "mimetype": "text/x-python",
   "name": "python",
   "nbconvert_exporter": "python",
   "pygments_lexer": "ipython3",
   "version": "3.9.7"
  }
 },
 "nbformat": 4,
 "nbformat_minor": 4
}
