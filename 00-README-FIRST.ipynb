{
 "cells": [
  {
   "cell_type": "markdown",
   "metadata": {},
   "source": [
    "### Course Objectives\n",
    "\n",
    "In this workshop, we will learn the basics on Machine Learning by being hands-on.\n",
    "\n",
    "We will create some basic machine learning models and use them to make predictions.\n",
    "\n",
    "We are NOT attempting to teach you to become a datascientist!!"
   ]
  },
  {
   "cell_type": "markdown",
   "metadata": {},
   "source": [
    "### Feedback\n",
    "\n",
    "If after following this workshop you feel that the objectives haven't been achieved, please [email me](mailto:chris.snow@hpe.com) with your feedback."
   ]
  },
  {
   "cell_type": "markdown",
   "metadata": {},
   "source": [
    "### Pre-requisites\n",
    "\n",
    "You should have basic Python knowledge and be familiar with using Jupyter Notebooks.  If not, the following free hands-on workshops are recommended:\n",
    "\n",
    " - [Python 101](https://hackshack.hpedev.io/workshop/15)\n",
    " - [Jupyter Notebooks 101](https://hackshack.hpedev.io/workshop/25)\n",
    " \n",
    " If you are completely new to machine learning, the following free course is recommended to understand the concepts:\n",
    " \n",
    " - [Artificial Intelligence & Machine Learning Concepts](https://learn.ezmeral.software.hpe.com/page/artificial-intelligence-machine-learning)\n"
   ]
  },
  {
   "cell_type": "markdown",
   "metadata": {},
   "source": [
    "### TIPS\n",
    "\n",
    "During the workshop we use common third party libraries to work with our data.\n",
    "\n",
    "**Don't try to research these libraries during the workshop or you will run out of time!!**\n",
    "\n",
    "The [outro](./98_outro.ipynb) notebook provides more information on these third party libraries for your further study after you have finished the workshop."
   ]
  },
  {
   "cell_type": "markdown",
   "metadata": {},
   "source": [
    "\n",
    "### Contents"
   ]
  },
  {
   "cell_type": "markdown",
   "metadata": {},
   "source": [
    "| Notebook      | Description |\n",
    "| ----------- | ----------- |\n",
    "| [01 sans machine learning](./01_sans_machine_learning.ipynb) | Build a prediction model without machine learning |\n",
    "| [02 manual method issues](./02_manual_method_issues.ipynb) | Understand the issues with our manual approach |\n",
    "| [03 first steps with machine learning](./03_first_steps_with_machine_learning.ipynb) | Create a prediction model using scikit-learn |\n",
    "| [04 scikit datasets](./04_scikit_datasets.ipynb) | Explore the Iris dataset provided with scikit-learn |\n",
    "| [05 ML approaches and algorithms](./05_ML_approaches_and_algorithms.ipynb) | Explore machine learning basic concepts |\n",
    "| [06 Sckit-Learn algorithm cheetsheet](./06_Sckit-Learn_algorithm_cheetsheet.ipynb) | Explore further machine learning concepts |\n",
    "| [07 estimator parameters](./07_estimator_parameters.ipynb) | Learn how algorithms behavoir can be modified using parameters |\n",
    "| [08 test and train split](./08_test_and_train_split.ipynb) | Explore how splitting the data is required for testing |\n",
    "| [09 model performance](./09_model_performance.ipynb) | How model performance can be measured |\n",
    "| [10_model_persistence](./10_model_persistence.ipynb) | How to save your models as a file |\n",
    "| [11_model_predictions](./11_model_predictions.ipynb) | Deeper dive into making predictions |\n",
    "| [98 outro](./98_outro.ipynb) | Summary of topics not covered and recommended further learning"
   ]
  },
  {
   "cell_type": "markdown",
   "metadata": {},
   "source": [
    "### How to run the workshop\n",
    "\n",
    "This workshop can be run from:\n",
    "\n",
    "- HPE DEV workshop\n",
    "- Local environment with Docker\n",
    "- Local environmnt with Python and Jupyterhub"
   ]
  },
  {
   "cell_type": "markdown",
   "metadata": {},
   "source": [
    "<div class=\"alert-info\">\n",
    "    \n",
    "**HPE DEV workshop environment**\n",
    "\n",
    "[hpe dev workshop](https://hackshack.hpedev.io/workshops) (TODO - replace final link when ready).\n",
    "\n",
    "If you try to run this workshop directly on your laptop you are likely to encounter errors.\n",
    "    \n",
    "</div>"
   ]
  },
  {
   "cell_type": "markdown",
   "metadata": {},
   "source": [
    "<div class=\"alert-info\">\n",
    "    \n",
    "#### If you have a local environment with Docker\n",
    "\n",
    " - on your laptop run `docker run -it -p 8888:8888 jupyter/scipy-notebook`\n",
    " - with your browser open the link output by the previous command\n",
    " - in jupyter open a terminal\n",
    " - run `git clone https://github.com/snowch/ml-101`\n",
    "\n",
    "</div>"
   ]
  },
  {
   "cell_type": "markdown",
   "metadata": {},
   "source": [
    "<div class=\"alert-info\">\n",
    "\n",
    "#### If you have a local environment with Python and Jupyter\n",
    "\n",
    " - run `git clone https://github.com/snowch/ml-101`\n",
    " - Start Jupyter and open this notebook\n",
    " - Add a new notebook cell and run `!pip3 install pandas seaborn sklearn`\n",
    "    \n",
    "</div>"
   ]
  },
  {
   "cell_type": "markdown",
   "metadata": {},
   "source": [
    "### Navigation\n",
    "\n",
    "Click [Next](./01_sans_machine_learning.ipynb) to start the workshop"
   ]
  },
  {
   "cell_type": "code",
   "execution_count": null,
   "metadata": {},
   "outputs": [],
   "source": []
  }
 ],
 "metadata": {
  "kernelspec": {
   "display_name": "Python 3 (ipykernel)",
   "language": "python",
   "name": "python3"
  },
  "language_info": {
   "codemirror_mode": {
    "name": "ipython",
    "version": 3
   },
   "file_extension": ".py",
   "mimetype": "text/x-python",
   "name": "python",
   "nbconvert_exporter": "python",
   "pygments_lexer": "ipython3",
   "version": "3.9.7"
  }
 },
 "nbformat": 4,
 "nbformat_minor": 4
}
