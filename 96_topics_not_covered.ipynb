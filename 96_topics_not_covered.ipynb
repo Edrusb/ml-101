{
 "cells": [
  {
   "cell_type": "markdown",
   "id": "7a834a06-fb47-492d-9bfb-7845f96af3c8",
   "metadata": {},
   "source": [
    "TODO ... this section is a W-I-P.\n",
    "\n",
    "- Ensemble Methods\n",
    "- Feature Engineering\n",
    "- Deep Learning\n",
    "- Reinforcement Learning\n",
    "- Dimensionality Reduction"
   ]
  },
  {
   "cell_type": "markdown",
   "id": "a9357c3a-69a2-4de2-adc9-9266c7db0883",
   "metadata": {},
   "source": [
    "- accuracy?\n",
    "- HPO"
   ]
  },
  {
   "cell_type": "code",
   "execution_count": null,
   "id": "10b1c5e8-f298-4c8b-87c0-6572f9b3dc8c",
   "metadata": {},
   "outputs": [],
   "source": []
  }
 ],
 "metadata": {
  "kernelspec": {
   "display_name": "Python 3 (ipykernel)",
   "language": "python",
   "name": "python3"
  },
  "language_info": {
   "codemirror_mode": {
    "name": "ipython",
    "version": 3
   },
   "file_extension": ".py",
   "mimetype": "text/x-python",
   "name": "python",
   "nbconvert_exporter": "python",
   "pygments_lexer": "ipython3",
   "version": "3.9.7"
  }
 },
 "nbformat": 4,
 "nbformat_minor": 5
}
