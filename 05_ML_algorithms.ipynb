{
 "cells": [
  {
   "cell_type": "markdown",
   "id": "350f6d32-fa63-48c7-9bde-bd3e8dec7c7d",
   "metadata": {},
   "source": [
    "### Introduction\n",
    "\n",
    "Questions: \n",
    "\n",
    "- Can you remember what type of machine learning (classification, clustering or regression) we were did on the Iris dataset?\n",
    "- Do you know the differences between classification, clustering or regression?\n",
    "- Can you remember the approach"
   ]
  },
  {
   "cell_type": "markdown",
   "id": "cad6a6a4-19e2-4fcf-86b6-8a683392c1fd",
   "metadata": {},
   "source": [
    "![algorithms](https://scikit-learn.org/stable/_static/ml_map.png)\n",
    "\n",
    "Source: https://scikit-learn.org/stable/tutorial/machine_learning_map/index.html"
   ]
  },
  {
   "cell_type": "code",
   "execution_count": null,
   "id": "6adc9ece-7209-4f5a-9696-c761ecc33014",
   "metadata": {},
   "outputs": [],
   "source": []
  }
 ],
 "metadata": {
  "kernelspec": {
   "display_name": "Python 3 (ipykernel)",
   "language": "python",
   "name": "python3"
  },
  "language_info": {
   "codemirror_mode": {
    "name": "ipython",
    "version": 3
   },
   "file_extension": ".py",
   "mimetype": "text/x-python",
   "name": "python",
   "nbconvert_exporter": "python",
   "pygments_lexer": "ipython3",
   "version": "3.9.7"
  }
 },
 "nbformat": 4,
 "nbformat_minor": 5
}
