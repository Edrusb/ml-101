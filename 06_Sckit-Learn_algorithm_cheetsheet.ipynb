{
 "cells": [
  {
   "cell_type": "markdown",
   "id": "350f6d32-fa63-48c7-9bde-bd3e8dec7c7d",
   "metadata": {},
   "source": []
  },
  {
   "cell_type": "markdown",
   "id": "cad6a6a4-19e2-4fcf-86b6-8a683392c1fd",
   "metadata": {},
   "source": [
    "![algorithms](https://scikit-learn.org/stable/_static/ml_map.png)\n",
    "\n",
    "Source: https://scikit-learn.org/stable/tutorial/machine_learning_map/index.html"
   ]
  },
  {
   "cell_type": "markdown",
   "id": "0cecf643-9ca3-4142-9017-da9550da76db",
   "metadata": {},
   "source": [
    "Exercise - here is dataset .. (boston) ... task to model ... which algorithm?"
   ]
  },
  {
   "cell_type": "code",
   "execution_count": null,
   "id": "d7af4b6a-7c35-427c-a299-c2ae36be16b6",
   "metadata": {},
   "outputs": [],
   "source": []
  }
 ],
 "metadata": {
  "kernelspec": {
   "display_name": "Python 3 (ipykernel)",
   "language": "python",
   "name": "python3"
  },
  "language_info": {
   "codemirror_mode": {
    "name": "ipython",
    "version": 3
   },
   "file_extension": ".py",
   "mimetype": "text/x-python",
   "name": "python",
   "nbconvert_exporter": "python",
   "pygments_lexer": "ipython3",
   "version": "3.9.7"
  }
 },
 "nbformat": 4,
 "nbformat_minor": 5
}
