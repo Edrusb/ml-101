{
 "cells": [
  {
   "cell_type": "markdown",
   "id": "2a55bf56-b53c-4733-853b-6f217ed36b3e",
   "metadata": {},
   "source": [
    "### Introduction\n",
    "\n",
    "Because their are so many algorithms, deciding which algorithm to use can be daunting for a newbie building a machine learning model.\n",
    "\n",
    "Luckily the kind folks behind Scikit-Learn have provided a nice map to help you get started: https://scikit-learn.org/stable/tutorial/machine_learning_map/index.html\n"
   ]
  },
  {
   "cell_type": "markdown",
   "id": "cad6a6a4-19e2-4fcf-86b6-8a683392c1fd",
   "metadata": {},
   "source": [
    "![algorithms](https://scikit-learn.org/stable/_static/ml_map.png)"
   ]
  },
  {
   "cell_type": "markdown",
   "id": "0cecf643-9ca3-4142-9017-da9550da76db",
   "metadata": {},
   "source": [
    "The algorithmm are shown as green boxes."
   ]
  },
  {
   "cell_type": "markdown",
   "id": "a35104d9-68e6-42c5-812b-b668f1e2b5ee",
   "metadata": {},
   "source": [
    "<div class=\"alert-info\">\n",
    "    \n",
    "---\n",
    "_**DEFINITION: LABELLED DATA**_\n",
    "   \n",
    "TODO ...\n",
    "    \n",
    "---\n",
    "</div>"
   ]
  },
  {
   "cell_type": "markdown",
   "id": "b41f759f-557c-4c6c-8ced-d9ef5458df48",
   "metadata": {},
   "source": [
    "### Excercises"
   ]
  },
  {
   "cell_type": "markdown",
   "id": "c2167135-1d3d-4f46-a8da-59f6a1b9accb",
   "metadata": {},
   "source": [
    "Exercise 01: Click the link to open the map on the scikit learn site.  Click on the Linear SVC algorithm - where does it take you?\n",
    "\n",
    "Exercise 02: here is dataset .. (boston) ... task to model and predict house prices ... which algorithm?"
   ]
  },
  {
   "cell_type": "code",
   "execution_count": null,
   "id": "f727a3b4-0337-4235-af1e-81adb962362e",
   "metadata": {},
   "outputs": [],
   "source": []
  }
 ],
 "metadata": {
  "kernelspec": {
   "display_name": "Python 3 (ipykernel)",
   "language": "python",
   "name": "python3"
  },
  "language_info": {
   "codemirror_mode": {
    "name": "ipython",
    "version": 3
   },
   "file_extension": ".py",
   "mimetype": "text/x-python",
   "name": "python",
   "nbconvert_exporter": "python",
   "pygments_lexer": "ipython3",
   "version": "3.9.7"
  }
 },
 "nbformat": 4,
 "nbformat_minor": 5
}
