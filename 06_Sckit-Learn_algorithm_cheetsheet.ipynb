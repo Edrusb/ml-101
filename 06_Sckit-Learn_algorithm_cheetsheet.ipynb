{
 "cells": [
  {
   "cell_type": "markdown",
   "id": "2a55bf56-b53c-4733-853b-6f217ed36b3e",
   "metadata": {},
   "source": [
    "### Introduction\n",
    "\n",
    "Because their are so many algorithms, deciding which algorithm to use can be daunting for a newbie building a machine learning model.\n",
    "\n",
    "Luckily the kind folks behind Scikit-Learn have provided a nice map to help you get started: https://scikit-learn.org/stable/tutorial/machine_learning_map/index.html\n"
   ]
  },
  {
   "cell_type": "markdown",
   "id": "cad6a6a4-19e2-4fcf-86b6-8a683392c1fd",
   "metadata": {},
   "source": [
    "![algorithms](https://scikit-learn.org/stable/_static/ml_map.png)"
   ]
  },
  {
   "cell_type": "markdown",
   "id": "0cecf643-9ca3-4142-9017-da9550da76db",
   "metadata": {},
   "source": [
    "The algorithmm are shown as green boxes.\n",
    "\n",
    "If you ignore dimensionality reduction for now, we can see that three approaches: Classification, Clustering, Regression\n",
    "\n",
    "NOTE: dimensionality reduction is more of an advanced topic and will not be covered on this course."
   ]
  },
  {
   "cell_type": "markdown",
   "id": "a35104d9-68e6-42c5-812b-b668f1e2b5ee",
   "metadata": {
    "tags": []
   },
   "source": [
    "<div class=\"alert-info\">\n",
    "    \n",
    "---\n",
    "_**DEFINITION: CLASSIFICATION**_\n",
    "   \n",
    "_Classification is used to determine the class of an object. To train the model, we required labelled data.  In the Iris example, the Class of Iris was the label._\n",
    "    \n",
    "---\n",
    "</div>"
   ]
  },
  {
   "cell_type": "markdown",
   "id": "74e54aff-94b4-4a3c-9f40-b973067a7b8f",
   "metadata": {
    "tags": []
   },
   "source": [
    "<div class=\"alert-info\">\n",
    "    \n",
    "---\n",
    "_**DEFINITION: REGRESSION**_\n",
    "   \n",
    "_Regression is similar to Classification, but instead of predicting a Class of an object, we are predicting a value on a continuous scale.  An example of this may be predicting the Salary based on features such as Age, Experience, etc._\n",
    "    \n",
    "---\n",
    "</div>"
   ]
  },
  {
   "cell_type": "markdown",
   "id": "cfa06af7-4358-4241-b58a-b1e60ec26057",
   "metadata": {
    "tags": []
   },
   "source": [
    "<div class=\"alert-info\">\n",
    "    \n",
    "---\n",
    "_**DEFINITION: CLUSTERING**_\n",
    "   \n",
    "_Cluster analysis or clustering is the task of grouping a set of objects in such a way that objects in the same group (called a cluster) are more similar (in some sense) to each other than to those in other groups (clusters)._\n",
    "    \n",
    "_Source: https://en.wikipedia.org/wiki/Cluster_analysis_\n",
    "    \n",
    "---\n",
    "</div>"
   ]
  },
  {
   "cell_type": "markdown",
   "id": "05a41b15-4dee-4e18-b565-2109d7b40147",
   "metadata": {},
   "source": [
    "In the middle of the map, we see a decision point; \"Do you have labelled data?\"."
   ]
  },
  {
   "cell_type": "markdown",
   "id": "24519f6a-fa1e-44d1-8ef3-569209854d86",
   "metadata": {
    "tags": []
   },
   "source": [
    "<div class=\"alert-info\">\n",
    "    \n",
    "---\n",
    "_**DEFINITION: LABELLED DATA**_\n",
    "   \n",
    "_Labeled data is a group of samples that have been tagged with one or more labels. Labeling typically takes a set of unlabeled data and augments each piece of it with informative tags_\n",
    "    \n",
    "_In the Iris dataset the class was labelled data._\n",
    "    \n",
    "_Source: https://en.wikipedia.org/wiki/Labeled_data_\n",
    "    \n",
    "---\n",
    "</div>"
   ]
  },
  {
   "cell_type": "markdown",
   "id": "b41f759f-557c-4c6c-8ced-d9ef5458df48",
   "metadata": {},
   "source": [
    "### Excercises"
   ]
  },
  {
   "cell_type": "markdown",
   "id": "c2167135-1d3d-4f46-a8da-59f6a1b9accb",
   "metadata": {},
   "source": [
    "**Exercise 01:** \n",
    "\n",
    "- Click the [link](https://scikit-learn.org/stable/tutorial/machine_learning_map/index.html) to open the map on the scikit learn site.  \n",
    "- Click on the Linear SVC algorithm - where does it take you?\n",
    "\n",
    "E**xercise 02:**\n",
    "\n",
    "- What type of algorithm is KMeans?\n",
    "\n",
    "**Exercise 03:**\n",
    "\n",
    "We have a diabetes dataset with a continuous number for the target:"
   ]
  },
  {
   "cell_type": "code",
   "execution_count": 1,
   "id": "f727a3b4-0337-4235-af1e-81adb962362e",
   "metadata": {},
   "outputs": [
    {
     "data": {
      "text/html": [
       "<div>\n",
       "<style scoped>\n",
       "    .dataframe tbody tr th:only-of-type {\n",
       "        vertical-align: middle;\n",
       "    }\n",
       "\n",
       "    .dataframe tbody tr th {\n",
       "        vertical-align: top;\n",
       "    }\n",
       "\n",
       "    .dataframe thead th {\n",
       "        text-align: right;\n",
       "    }\n",
       "</style>\n",
       "<table border=\"1\" class=\"dataframe\">\n",
       "  <thead>\n",
       "    <tr style=\"text-align: right;\">\n",
       "      <th></th>\n",
       "      <th>age</th>\n",
       "      <th>sex</th>\n",
       "      <th>bmi</th>\n",
       "      <th>bp</th>\n",
       "      <th>s1</th>\n",
       "      <th>s2</th>\n",
       "      <th>s3</th>\n",
       "      <th>s4</th>\n",
       "      <th>s5</th>\n",
       "      <th>s6</th>\n",
       "      <th>target</th>\n",
       "    </tr>\n",
       "  </thead>\n",
       "  <tbody>\n",
       "    <tr>\n",
       "      <th>0</th>\n",
       "      <td>0.038076</td>\n",
       "      <td>0.050680</td>\n",
       "      <td>0.061696</td>\n",
       "      <td>0.021872</td>\n",
       "      <td>-0.044223</td>\n",
       "      <td>-0.034821</td>\n",
       "      <td>-0.043401</td>\n",
       "      <td>-0.002592</td>\n",
       "      <td>0.019908</td>\n",
       "      <td>-0.017646</td>\n",
       "      <td>151.0</td>\n",
       "    </tr>\n",
       "    <tr>\n",
       "      <th>1</th>\n",
       "      <td>-0.001882</td>\n",
       "      <td>-0.044642</td>\n",
       "      <td>-0.051474</td>\n",
       "      <td>-0.026328</td>\n",
       "      <td>-0.008449</td>\n",
       "      <td>-0.019163</td>\n",
       "      <td>0.074412</td>\n",
       "      <td>-0.039493</td>\n",
       "      <td>-0.068330</td>\n",
       "      <td>-0.092204</td>\n",
       "      <td>75.0</td>\n",
       "    </tr>\n",
       "    <tr>\n",
       "      <th>2</th>\n",
       "      <td>0.085299</td>\n",
       "      <td>0.050680</td>\n",
       "      <td>0.044451</td>\n",
       "      <td>-0.005671</td>\n",
       "      <td>-0.045599</td>\n",
       "      <td>-0.034194</td>\n",
       "      <td>-0.032356</td>\n",
       "      <td>-0.002592</td>\n",
       "      <td>0.002864</td>\n",
       "      <td>-0.025930</td>\n",
       "      <td>141.0</td>\n",
       "    </tr>\n",
       "    <tr>\n",
       "      <th>3</th>\n",
       "      <td>-0.089063</td>\n",
       "      <td>-0.044642</td>\n",
       "      <td>-0.011595</td>\n",
       "      <td>-0.036656</td>\n",
       "      <td>0.012191</td>\n",
       "      <td>0.024991</td>\n",
       "      <td>-0.036038</td>\n",
       "      <td>0.034309</td>\n",
       "      <td>0.022692</td>\n",
       "      <td>-0.009362</td>\n",
       "      <td>206.0</td>\n",
       "    </tr>\n",
       "    <tr>\n",
       "      <th>4</th>\n",
       "      <td>0.005383</td>\n",
       "      <td>-0.044642</td>\n",
       "      <td>-0.036385</td>\n",
       "      <td>0.021872</td>\n",
       "      <td>0.003935</td>\n",
       "      <td>0.015596</td>\n",
       "      <td>0.008142</td>\n",
       "      <td>-0.002592</td>\n",
       "      <td>-0.031991</td>\n",
       "      <td>-0.046641</td>\n",
       "      <td>135.0</td>\n",
       "    </tr>\n",
       "  </tbody>\n",
       "</table>\n",
       "</div>"
      ],
      "text/plain": [
       "        age       sex       bmi        bp        s1        s2        s3  \\\n",
       "0  0.038076  0.050680  0.061696  0.021872 -0.044223 -0.034821 -0.043401   \n",
       "1 -0.001882 -0.044642 -0.051474 -0.026328 -0.008449 -0.019163  0.074412   \n",
       "2  0.085299  0.050680  0.044451 -0.005671 -0.045599 -0.034194 -0.032356   \n",
       "3 -0.089063 -0.044642 -0.011595 -0.036656  0.012191  0.024991 -0.036038   \n",
       "4  0.005383 -0.044642 -0.036385  0.021872  0.003935  0.015596  0.008142   \n",
       "\n",
       "         s4        s5        s6  target  \n",
       "0 -0.002592  0.019908 -0.017646   151.0  \n",
       "1 -0.039493 -0.068330 -0.092204    75.0  \n",
       "2 -0.002592  0.002864 -0.025930   141.0  \n",
       "3  0.034309  0.022692 -0.009362   206.0  \n",
       "4 -0.002592 -0.031991 -0.046641   135.0  "
      ]
     },
     "execution_count": 1,
     "metadata": {},
     "output_type": "execute_result"
    }
   ],
   "source": [
    "import sklearn.datasets\n",
    "import pandas as pd\n",
    "import numpy as np\n",
    "\n",
    "diabetes = sklearn.datasets.load_diabetes()\n",
    "\n",
    "diabetes_df = pd.DataFrame(data= np.c_[diabetes['data'], diabetes['target']],columns= diabetes['feature_names'] + ['target'])\n",
    "diabetes_df.head(5)"
   ]
  },
  {
   "cell_type": "markdown",
   "id": "2e308ef7-9b2c-462f-9f2e-3569c33fbca2",
   "metadata": {},
   "source": [
    "The number of records and columns can be found with:"
   ]
  },
  {
   "cell_type": "code",
   "execution_count": 2,
   "id": "5c62da3c-cbe6-4281-926f-27511aa18e8c",
   "metadata": {},
   "outputs": [
    {
     "data": {
      "text/plain": [
       "(442, 11)"
      ]
     },
     "execution_count": 2,
     "metadata": {},
     "output_type": "execute_result"
    }
   ],
   "source": [
    "diabetes_df.shape"
   ]
  },
  {
   "cell_type": "markdown",
   "id": "a6bd2089-5ead-43ae-aad7-d2427869072a",
   "metadata": {},
   "source": [
    "Assume only a few of the features will be important.  \n",
    "\n",
    "- Which algorithm would you choose using the scikit algorithm cheat sheet?"
   ]
  },
  {
   "cell_type": "markdown",
   "id": "b1a48196-9d49-4346-8d40-55f8b5630485",
   "metadata": {},
   "source": [
    "**Click [Next](./07_estimator_parameters.ipynb) to continue with the next notebook.**"
   ]
  },
  {
   "cell_type": "code",
   "execution_count": null,
   "id": "c752a577-3a2c-4227-bd61-c5ae9bf37613",
   "metadata": {},
   "outputs": [],
   "source": []
  }
 ],
 "metadata": {
  "kernelspec": {
   "display_name": "Python 3 (ipykernel)",
   "language": "python",
   "name": "python3"
  },
  "language_info": {
   "codemirror_mode": {
    "name": "ipython",
    "version": 3
   },
   "file_extension": ".py",
   "mimetype": "text/x-python",
   "name": "python",
   "nbconvert_exporter": "python",
   "pygments_lexer": "ipython3",
   "version": "3.9.7"
  }
 },
 "nbformat": 4,
 "nbformat_minor": 5
}
