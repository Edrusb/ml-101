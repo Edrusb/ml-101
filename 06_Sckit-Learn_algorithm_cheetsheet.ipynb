{
 "cells": [
  {
   "cell_type": "markdown",
   "id": "2a55bf56-b53c-4733-853b-6f217ed36b3e",
   "metadata": {},
   "source": [
    "### Introduction\n",
    "\n",
    "Because their are so many algorithms, deciding which algorithm to use can be daunting for a newbie building a machine learning model.\n",
    "\n",
    "Luckily the kind folks behind Scikit-Learn have provided a nice map to help you get started: https://scikit-learn.org/stable/tutorial/machine_learning_map/index.html\n"
   ]
  },
  {
   "cell_type": "markdown",
   "id": "cad6a6a4-19e2-4fcf-86b6-8a683392c1fd",
   "metadata": {},
   "source": [
    "![algorithms](https://scikit-learn.org/stable/_static/ml_map.png)"
   ]
  },
  {
   "cell_type": "markdown",
   "id": "0cecf643-9ca3-4142-9017-da9550da76db",
   "metadata": {},
   "source": [
    "The algorithmm are shown as green boxes.\n",
    "\n",
    "If you ignore dimensionality reduction for now, we can see that three approaches: Classification, Clustering, Regression\n",
    "\n",
    "NOTE: dimensionality reduction is more of an advanced topic and will not be covered on this course."
   ]
  },
  {
   "cell_type": "markdown",
   "id": "a35104d9-68e6-42c5-812b-b668f1e2b5ee",
   "metadata": {
    "tags": []
   },
   "source": [
    "<div class=\"alert-info\">\n",
    "    \n",
    "---\n",
    "_**DEFINITION: CLASSIFICATION**_\n",
    "   \n",
    "_Classification is used to determine the class of an object. To train the model, we required labelled data.  In the Iris example, the Class of Iris was the label._\n",
    "    \n",
    "---\n",
    "</div>"
   ]
  },
  {
   "cell_type": "markdown",
   "id": "74e54aff-94b4-4a3c-9f40-b973067a7b8f",
   "metadata": {
    "tags": []
   },
   "source": [
    "<div class=\"alert-info\">\n",
    "    \n",
    "---\n",
    "_**DEFINITION: REGRESSION**_\n",
    "   \n",
    "_Regression is similar to Classification, but instead of predicting a Class of an object, we are predicting a value on a continuous scale.  An example of this may be predicting the Salary based on features such as Age, Experience, etc._\n",
    "    \n",
    "---\n",
    "</div>"
   ]
  },
  {
   "cell_type": "markdown",
   "id": "cfa06af7-4358-4241-b58a-b1e60ec26057",
   "metadata": {
    "tags": []
   },
   "source": [
    "<div class=\"alert-info\">\n",
    "    \n",
    "---\n",
    "_**DEFINITION: CLUSTERING**_\n",
    "   \n",
    "_Cluster analysis or clustering is the task of grouping a set of objects in such a way that objects in the same group (called a cluster) are more similar (in some sense) to each other than to those in other groups (clusters)._\n",
    "    \n",
    "_Source: https://en.wikipedia.org/wiki/Cluster_analysis_\n",
    "    \n",
    "---\n",
    "</div>"
   ]
  },
  {
   "cell_type": "markdown",
   "id": "05a41b15-4dee-4e18-b565-2109d7b40147",
   "metadata": {},
   "source": [
    "In the middle of the map, we see a decision point; \"Do you have labelled data?\"."
   ]
  },
  {
   "cell_type": "markdown",
   "id": "24519f6a-fa1e-44d1-8ef3-569209854d86",
   "metadata": {
    "tags": []
   },
   "source": [
    "<div class=\"alert-info\">\n",
    "    \n",
    "---\n",
    "_**DEFINITION: LABELLED DATA**_\n",
    "   \n",
    "_Labeled data is a group of samples that have been tagged with one or more labels. Labeling typically takes a set of unlabeled data and augments each piece of it with informative tags_\n",
    "    \n",
    "_In the Iris dataset the class was labelled data._\n",
    "    \n",
    "_Source: https://en.wikipedia.org/wiki/Labeled_data_\n",
    "    \n",
    "---\n",
    "</div>"
   ]
  },
  {
   "cell_type": "markdown",
   "id": "b41f759f-557c-4c6c-8ced-d9ef5458df48",
   "metadata": {},
   "source": [
    "### Excercises"
   ]
  },
  {
   "cell_type": "markdown",
   "id": "c2167135-1d3d-4f46-a8da-59f6a1b9accb",
   "metadata": {},
   "source": [
    "**Exercise 01:** \n",
    "\n",
    "- Click the [link](https://scikit-learn.org/stable/tutorial/machine_learning_map/index.html) to open the map on the scikit learn site.  \n",
    "- Click on the Linear SVC algorithm - where does it take you?\n",
    "\n",
    "E**xercise 02:**\n",
    "\n",
    "- What type of algorithm is KMeans?\n",
    "\n",
    "**Exercise 03:**\n",
    "\n",
    "- \n",
    "here is dataset .. (boston) ... task to model and predict house prices ... which algorithm?"
   ]
  },
  {
   "cell_type": "code",
   "execution_count": 7,
   "id": "f727a3b4-0337-4235-af1e-81adb962362e",
   "metadata": {},
   "outputs": [
    {
     "name": "stdout",
     "output_type": "stream",
     "text": [
      "{'data': array([[ 0.03807591,  0.05068012,  0.06169621, ..., -0.00259226,\n",
      "         0.01990842, -0.01764613],\n",
      "       [-0.00188202, -0.04464164, -0.05147406, ..., -0.03949338,\n",
      "        -0.06832974, -0.09220405],\n",
      "       [ 0.08529891,  0.05068012,  0.04445121, ..., -0.00259226,\n",
      "         0.00286377, -0.02593034],\n",
      "       ...,\n",
      "       [ 0.04170844,  0.05068012, -0.01590626, ..., -0.01107952,\n",
      "        -0.04687948,  0.01549073],\n",
      "       [-0.04547248, -0.04464164,  0.03906215, ...,  0.02655962,\n",
      "         0.04452837, -0.02593034],\n",
      "       [-0.04547248, -0.04464164, -0.0730303 , ..., -0.03949338,\n",
      "        -0.00421986,  0.00306441]]), 'target': array([151.,  75., 141., 206., 135.,  97., 138.,  63., 110., 310., 101.,\n",
      "        69., 179., 185., 118., 171., 166., 144.,  97., 168.,  68.,  49.,\n",
      "        68., 245., 184., 202., 137.,  85., 131., 283., 129.,  59., 341.,\n",
      "        87.,  65., 102., 265., 276., 252.,  90., 100.,  55.,  61.,  92.,\n",
      "       259.,  53., 190., 142.,  75., 142., 155., 225.,  59., 104., 182.,\n",
      "       128.,  52.,  37., 170., 170.,  61., 144.,  52., 128.,  71., 163.,\n",
      "       150.,  97., 160., 178.,  48., 270., 202., 111.,  85.,  42., 170.,\n",
      "       200., 252., 113., 143.,  51.,  52., 210.,  65., 141.,  55., 134.,\n",
      "        42., 111.,  98., 164.,  48.,  96.,  90., 162., 150., 279.,  92.,\n",
      "        83., 128., 102., 302., 198.,  95.,  53., 134., 144., 232.,  81.,\n",
      "       104.,  59., 246., 297., 258., 229., 275., 281., 179., 200., 200.,\n",
      "       173., 180.,  84., 121., 161.,  99., 109., 115., 268., 274., 158.,\n",
      "       107.,  83., 103., 272.,  85., 280., 336., 281., 118., 317., 235.,\n",
      "        60., 174., 259., 178., 128.,  96., 126., 288.,  88., 292.,  71.,\n",
      "       197., 186.,  25.,  84.,  96., 195.,  53., 217., 172., 131., 214.,\n",
      "        59.,  70., 220., 268., 152.,  47.,  74., 295., 101., 151., 127.,\n",
      "       237., 225.,  81., 151., 107.,  64., 138., 185., 265., 101., 137.,\n",
      "       143., 141.,  79., 292., 178.,  91., 116.,  86., 122.,  72., 129.,\n",
      "       142.,  90., 158.,  39., 196., 222., 277.,  99., 196., 202., 155.,\n",
      "        77., 191.,  70.,  73.,  49.,  65., 263., 248., 296., 214., 185.,\n",
      "        78.,  93., 252., 150.,  77., 208.,  77., 108., 160.,  53., 220.,\n",
      "       154., 259.,  90., 246., 124.,  67.,  72., 257., 262., 275., 177.,\n",
      "        71.,  47., 187., 125.,  78.,  51., 258., 215., 303., 243.,  91.,\n",
      "       150., 310., 153., 346.,  63.,  89.,  50.,  39., 103., 308., 116.,\n",
      "       145.,  74.,  45., 115., 264.,  87., 202., 127., 182., 241.,  66.,\n",
      "        94., 283.,  64., 102., 200., 265.,  94., 230., 181., 156., 233.,\n",
      "        60., 219.,  80.,  68., 332., 248.,  84., 200.,  55.,  85.,  89.,\n",
      "        31., 129.,  83., 275.,  65., 198., 236., 253., 124.,  44., 172.,\n",
      "       114., 142., 109., 180., 144., 163., 147.,  97., 220., 190., 109.,\n",
      "       191., 122., 230., 242., 248., 249., 192., 131., 237.,  78., 135.,\n",
      "       244., 199., 270., 164.,  72.,  96., 306.,  91., 214.,  95., 216.,\n",
      "       263., 178., 113., 200., 139., 139.,  88., 148.,  88., 243.,  71.,\n",
      "        77., 109., 272.,  60.,  54., 221.,  90., 311., 281., 182., 321.,\n",
      "        58., 262., 206., 233., 242., 123., 167.,  63., 197.,  71., 168.,\n",
      "       140., 217., 121., 235., 245.,  40.,  52., 104., 132.,  88.,  69.,\n",
      "       219.,  72., 201., 110.,  51., 277.,  63., 118.,  69., 273., 258.,\n",
      "        43., 198., 242., 232., 175.,  93., 168., 275., 293., 281.,  72.,\n",
      "       140., 189., 181., 209., 136., 261., 113., 131., 174., 257.,  55.,\n",
      "        84.,  42., 146., 212., 233.,  91., 111., 152., 120.,  67., 310.,\n",
      "        94., 183.,  66., 173.,  72.,  49.,  64.,  48., 178., 104., 132.,\n",
      "       220.,  57.]), 'frame': None, 'DESCR': '.. _diabetes_dataset:\\n\\nDiabetes dataset\\n----------------\\n\\nTen baseline variables, age, sex, body mass index, average blood\\npressure, and six blood serum measurements were obtained for each of n =\\n442 diabetes patients, as well as the response of interest, a\\nquantitative measure of disease progression one year after baseline.\\n\\n**Data Set Characteristics:**\\n\\n  :Number of Instances: 442\\n\\n  :Number of Attributes: First 10 columns are numeric predictive values\\n\\n  :Target: Column 11 is a quantitative measure of disease progression one year after baseline\\n\\n  :Attribute Information:\\n      - age     age in years\\n      - sex\\n      - bmi     body mass index\\n      - bp      average blood pressure\\n      - s1      tc, total serum cholesterol\\n      - s2      ldl, low-density lipoproteins\\n      - s3      hdl, high-density lipoproteins\\n      - s4      tch, total cholesterol / HDL\\n      - s5      ltg, possibly log of serum triglycerides level\\n      - s6      glu, blood sugar level\\n\\nNote: Each of these 10 feature variables have been mean centered and scaled by the standard deviation times `n_samples` (i.e. the sum of squares of each column totals 1).\\n\\nSource URL:\\nhttps://www4.stat.ncsu.edu/~boos/var.select/diabetes.html\\n\\nFor more information see:\\nBradley Efron, Trevor Hastie, Iain Johnstone and Robert Tibshirani (2004) \"Least Angle Regression,\" Annals of Statistics (with discussion), 407-499.\\n(https://web.stanford.edu/~hastie/Papers/LARS/LeastAngle_2002.pdf)', 'feature_names': ['age', 'sex', 'bmi', 'bp', 's1', 's2', 's3', 's4', 's5', 's6'], 'data_filename': 'diabetes_data.csv.gz', 'target_filename': 'diabetes_target.csv.gz', 'data_module': 'sklearn.datasets.data'}\n"
     ]
    }
   ],
   "source": [
    "import sklearn.datasets\n",
    "print(sklearn.datasets.load_diabetes())"
   ]
  },
  {
   "cell_type": "code",
   "execution_count": null,
   "id": "5c62da3c-cbe6-4281-926f-27511aa18e8c",
   "metadata": {},
   "outputs": [],
   "source": []
  }
 ],
 "metadata": {
  "kernelspec": {
   "display_name": "Python 3 (ipykernel)",
   "language": "python",
   "name": "python3"
  },
  "language_info": {
   "codemirror_mode": {
    "name": "ipython",
    "version": 3
   },
   "file_extension": ".py",
   "mimetype": "text/x-python",
   "name": "python",
   "nbconvert_exporter": "python",
   "pygments_lexer": "ipython3",
   "version": "3.9.7"
  }
 },
 "nbformat": 4,
 "nbformat_minor": 5
}
