{
 "cells": [
  {
   "cell_type": "markdown",
   "id": "2a55bf56-b53c-4733-853b-6f217ed36b3e",
   "metadata": {},
   "source": [
    "### Introduction\n",
    "\n",
    "Because their are so many algorithms, deciding which algorithm to use can be daunting for a newbie building a machine learning model.\n",
    "\n",
    "Luckily the kind folks behind Scikit-Learn have provided a nice map to help you get started: https://scikit-learn.org/stable/tutorial/machine_learning_map/index.html\n"
   ]
  },
  {
   "cell_type": "markdown",
   "id": "cad6a6a4-19e2-4fcf-86b6-8a683392c1fd",
   "metadata": {},
   "source": [
    "![algorithms](https://scikit-learn.org/stable/_static/ml_map.png)"
   ]
  },
  {
   "cell_type": "markdown",
   "id": "0cecf643-9ca3-4142-9017-da9550da76db",
   "metadata": {},
   "source": [
    "The algorithmm are shown as green boxes.\n",
    "\n",
    "If you ignore dimensionality reduction for now, we can see that three approaches: Classification, Clustering, Regression\n",
    "\n",
    "NOTE: dimensionality reduction is more of an advanced topic and will not be covered on this course."
   ]
  },
  {
   "cell_type": "markdown",
   "id": "a35104d9-68e6-42c5-812b-b668f1e2b5ee",
   "metadata": {
    "tags": []
   },
   "source": [
    "<div class=\"alert-info\">\n",
    "    \n",
    "---\n",
    "_**DEFINITION: CLASSIFICATION**_\n",
    "   \n",
    "_Classification is used to determine the class of an object. To train the model, we required labelled data.  In the Iris example, the Class of Iris was the label._\n",
    "    \n",
    "---\n",
    "</div>"
   ]
  },
  {
   "cell_type": "markdown",
   "id": "74e54aff-94b4-4a3c-9f40-b973067a7b8f",
   "metadata": {
    "tags": []
   },
   "source": [
    "<div class=\"alert-info\">\n",
    "    \n",
    "---\n",
    "_**DEFINITION: REGRESSION**_\n",
    "   \n",
    "_Regression is similar to Classification, but instead of predicting a Class of an object, we are predicting a value on a continuous scale.  An example of this may be predicting the Salary based on features such as Age, Experience, etc._\n",
    "    \n",
    "---\n",
    "</div>"
   ]
  },
  {
   "cell_type": "markdown",
   "id": "cfa06af7-4358-4241-b58a-b1e60ec26057",
   "metadata": {
    "tags": []
   },
   "source": [
    "<div class=\"alert-info\">\n",
    "    \n",
    "---\n",
    "_**DEFINITION: CLUSTERING**_\n",
    "   \n",
    "_Cluster analysis or clustering is the task of grouping a set of objects in such a way that objects in the same group (called a cluster) are more similar (in some sense) to each other than to those in other groups (clusters)._\n",
    "    \n",
    "_Source: https://en.wikipedia.org/wiki/Cluster_analysis_\n",
    "    \n",
    "---\n",
    "</div>"
   ]
  },
  {
   "cell_type": "markdown",
   "id": "05a41b15-4dee-4e18-b565-2109d7b40147",
   "metadata": {},
   "source": [
    "In the middle of the map, we see a decision point; \"Do you have labelled data?\"."
   ]
  },
  {
   "cell_type": "markdown",
   "id": "24519f6a-fa1e-44d1-8ef3-569209854d86",
   "metadata": {
    "tags": []
   },
   "source": [
    "<div class=\"alert-info\">\n",
    "    \n",
    "---\n",
    "_**DEFINITION: LABELLED DATA**_\n",
    "   \n",
    "_Labeled data is a group of samples that have been tagged with one or more labels. Labeling typically takes a set of unlabeled data and augments each piece of it with informative tags_\n",
    "    \n",
    "_In the Iris dataset the class was labelled data._\n",
    "    \n",
    "_Source: https://en.wikipedia.org/wiki/Labeled_data_\n",
    "    \n",
    "---\n",
    "</div>"
   ]
  },
  {
   "cell_type": "markdown",
   "id": "b41f759f-557c-4c6c-8ced-d9ef5458df48",
   "metadata": {},
   "source": [
    "### Excercises"
   ]
  },
  {
   "cell_type": "markdown",
   "id": "c2167135-1d3d-4f46-a8da-59f6a1b9accb",
   "metadata": {},
   "source": [
    "**Exercise 01:** \n",
    "\n",
    "- Click the [link](https://scikit-learn.org/stable/tutorial/machine_learning_map/index.html) to open the map on the scikit learn site.  \n",
    "- Click on the Linear SVC algorithm - where does it take you?\n",
    "\n",
    "E**xercise 02:**\n",
    "\n",
    "- here is dataset .. (boston) ... task to model and predict house prices ... which algorithm?\n",
    "\n",
    "**Exercise 03:**\n",
    "\n",
    "- What type of algorithm is KMeans?"
   ]
  },
  {
   "cell_type": "code",
   "execution_count": null,
   "id": "f727a3b4-0337-4235-af1e-81adb962362e",
   "metadata": {},
   "outputs": [],
   "source": []
  }
 ],
 "metadata": {
  "kernelspec": {
   "display_name": "Python 3 (ipykernel)",
   "language": "python",
   "name": "python3"
  },
  "language_info": {
   "codemirror_mode": {
    "name": "ipython",
    "version": 3
   },
   "file_extension": ".py",
   "mimetype": "text/x-python",
   "name": "python",
   "nbconvert_exporter": "python",
   "pygments_lexer": "ipython3",
   "version": "3.9.7"
  }
 },
 "nbformat": 4,
 "nbformat_minor": 5
}
